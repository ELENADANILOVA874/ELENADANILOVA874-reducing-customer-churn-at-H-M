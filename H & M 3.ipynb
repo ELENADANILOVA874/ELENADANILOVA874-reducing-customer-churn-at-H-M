{
 "cells": [
  {
   "cell_type": "markdown",
   "id": "565e7a47",
   "metadata": {},
   "source": [
    "<img src=\"756594259921875.jpg\" style = 'width:400px;height:200px'/>"
   ]
  },
  {
   "cell_type": "markdown",
   "id": "a4b0b446",
   "metadata": {},
   "source": [
    "## Использование Push-уведомлений для уменьшения оттока клиентов, на примере данных из магазина \"H&M\""
   ]
  },
  {
   "cell_type": "markdown",
   "id": "930c100d",
   "metadata": {},
   "source": [
    "### Загрузка данных"
   ]
  },
  {
   "cell_type": "code",
   "execution_count": 47,
   "id": "1abda31e",
   "metadata": {},
   "outputs": [],
   "source": [
    "import pandas as pd\n",
    "import numpy as np\n",
    "import seaborn as sns\n",
    "import datetime\n",
    "import time \n",
    "\n",
    "\n",
    "\n",
    "\n",
    "\n",
    "%matplotlib inline "
   ]
  },
  {
   "cell_type": "code",
   "execution_count": 2,
   "id": "ce8b54e9",
   "metadata": {},
   "outputs": [],
   "source": [
    "dt = pd.read_csv('transactions_train.csv', encoding='windows-1251', sep=',')"
   ]
  },
  {
   "cell_type": "code",
   "execution_count": 3,
   "id": "85b78d9c",
   "metadata": {
    "scrolled": true
   },
   "outputs": [
    {
     "data": {
      "text/html": [
       "<div>\n",
       "<style scoped>\n",
       "    .dataframe tbody tr th:only-of-type {\n",
       "        vertical-align: middle;\n",
       "    }\n",
       "\n",
       "    .dataframe tbody tr th {\n",
       "        vertical-align: top;\n",
       "    }\n",
       "\n",
       "    .dataframe thead th {\n",
       "        text-align: right;\n",
       "    }\n",
       "</style>\n",
       "<table border=\"1\" class=\"dataframe\">\n",
       "  <thead>\n",
       "    <tr style=\"text-align: right;\">\n",
       "      <th></th>\n",
       "      <th>t_dat</th>\n",
       "      <th>customer_id</th>\n",
       "      <th>article_id</th>\n",
       "      <th>price</th>\n",
       "      <th>sales_channel_id</th>\n",
       "    </tr>\n",
       "  </thead>\n",
       "  <tbody>\n",
       "    <tr>\n",
       "      <th>0</th>\n",
       "      <td>2018-09-20</td>\n",
       "      <td>000058a12d5b43e67d225668fa1f8d618c13dc232df0ca...</td>\n",
       "      <td>663713001</td>\n",
       "      <td>0.050831</td>\n",
       "      <td>2</td>\n",
       "    </tr>\n",
       "    <tr>\n",
       "      <th>1</th>\n",
       "      <td>2018-09-20</td>\n",
       "      <td>000058a12d5b43e67d225668fa1f8d618c13dc232df0ca...</td>\n",
       "      <td>541518023</td>\n",
       "      <td>0.030492</td>\n",
       "      <td>2</td>\n",
       "    </tr>\n",
       "    <tr>\n",
       "      <th>2</th>\n",
       "      <td>2018-09-20</td>\n",
       "      <td>00007d2de826758b65a93dd24ce629ed66842531df6699...</td>\n",
       "      <td>505221004</td>\n",
       "      <td>0.015237</td>\n",
       "      <td>2</td>\n",
       "    </tr>\n",
       "    <tr>\n",
       "      <th>3</th>\n",
       "      <td>2018-09-20</td>\n",
       "      <td>00007d2de826758b65a93dd24ce629ed66842531df6699...</td>\n",
       "      <td>685687003</td>\n",
       "      <td>0.016932</td>\n",
       "      <td>2</td>\n",
       "    </tr>\n",
       "    <tr>\n",
       "      <th>4</th>\n",
       "      <td>2018-09-20</td>\n",
       "      <td>00007d2de826758b65a93dd24ce629ed66842531df6699...</td>\n",
       "      <td>685687004</td>\n",
       "      <td>0.016932</td>\n",
       "      <td>2</td>\n",
       "    </tr>\n",
       "    <tr>\n",
       "      <th>...</th>\n",
       "      <td>...</td>\n",
       "      <td>...</td>\n",
       "      <td>...</td>\n",
       "      <td>...</td>\n",
       "      <td>...</td>\n",
       "    </tr>\n",
       "    <tr>\n",
       "      <th>31788319</th>\n",
       "      <td>2020-09-22</td>\n",
       "      <td>fff2282977442e327b45d8c89afde25617d00124d0f999...</td>\n",
       "      <td>929511001</td>\n",
       "      <td>0.059305</td>\n",
       "      <td>2</td>\n",
       "    </tr>\n",
       "    <tr>\n",
       "      <th>31788320</th>\n",
       "      <td>2020-09-22</td>\n",
       "      <td>fff2282977442e327b45d8c89afde25617d00124d0f999...</td>\n",
       "      <td>891322004</td>\n",
       "      <td>0.042356</td>\n",
       "      <td>2</td>\n",
       "    </tr>\n",
       "    <tr>\n",
       "      <th>31788321</th>\n",
       "      <td>2020-09-22</td>\n",
       "      <td>fff380805474b287b05cb2a7507b9a013482f7dd0bce0e...</td>\n",
       "      <td>918325001</td>\n",
       "      <td>0.043203</td>\n",
       "      <td>1</td>\n",
       "    </tr>\n",
       "    <tr>\n",
       "      <th>31788322</th>\n",
       "      <td>2020-09-22</td>\n",
       "      <td>fff4d3a8b1f3b60af93e78c30a7cb4cf75edaf2590d3e5...</td>\n",
       "      <td>833459002</td>\n",
       "      <td>0.006763</td>\n",
       "      <td>1</td>\n",
       "    </tr>\n",
       "    <tr>\n",
       "      <th>31788323</th>\n",
       "      <td>2020-09-22</td>\n",
       "      <td>fffef3b6b73545df065b521e19f64bf6fe93bfd450ab20...</td>\n",
       "      <td>898573003</td>\n",
       "      <td>0.033881</td>\n",
       "      <td>2</td>\n",
       "    </tr>\n",
       "  </tbody>\n",
       "</table>\n",
       "<p>31788324 rows × 5 columns</p>\n",
       "</div>"
      ],
      "text/plain": [
       "               t_dat                                        customer_id  \\\n",
       "0         2018-09-20  000058a12d5b43e67d225668fa1f8d618c13dc232df0ca...   \n",
       "1         2018-09-20  000058a12d5b43e67d225668fa1f8d618c13dc232df0ca...   \n",
       "2         2018-09-20  00007d2de826758b65a93dd24ce629ed66842531df6699...   \n",
       "3         2018-09-20  00007d2de826758b65a93dd24ce629ed66842531df6699...   \n",
       "4         2018-09-20  00007d2de826758b65a93dd24ce629ed66842531df6699...   \n",
       "...              ...                                                ...   \n",
       "31788319  2020-09-22  fff2282977442e327b45d8c89afde25617d00124d0f999...   \n",
       "31788320  2020-09-22  fff2282977442e327b45d8c89afde25617d00124d0f999...   \n",
       "31788321  2020-09-22  fff380805474b287b05cb2a7507b9a013482f7dd0bce0e...   \n",
       "31788322  2020-09-22  fff4d3a8b1f3b60af93e78c30a7cb4cf75edaf2590d3e5...   \n",
       "31788323  2020-09-22  fffef3b6b73545df065b521e19f64bf6fe93bfd450ab20...   \n",
       "\n",
       "          article_id     price  sales_channel_id  \n",
       "0          663713001  0.050831                 2  \n",
       "1          541518023  0.030492                 2  \n",
       "2          505221004  0.015237                 2  \n",
       "3          685687003  0.016932                 2  \n",
       "4          685687004  0.016932                 2  \n",
       "...              ...       ...               ...  \n",
       "31788319   929511001  0.059305                 2  \n",
       "31788320   891322004  0.042356                 2  \n",
       "31788321   918325001  0.043203                 1  \n",
       "31788322   833459002  0.006763                 1  \n",
       "31788323   898573003  0.033881                 2  \n",
       "\n",
       "[31788324 rows x 5 columns]"
      ]
     },
     "execution_count": 3,
     "metadata": {},
     "output_type": "execute_result"
    }
   ],
   "source": [
    "dt"
   ]
  },
  {
   "cell_type": "code",
   "execution_count": 4,
   "id": "a6f2e7c4",
   "metadata": {
    "scrolled": true
   },
   "outputs": [
    {
     "data": {
      "text/html": [
       "<div>\n",
       "<style scoped>\n",
       "    .dataframe tbody tr th:only-of-type {\n",
       "        vertical-align: middle;\n",
       "    }\n",
       "\n",
       "    .dataframe tbody tr th {\n",
       "        vertical-align: top;\n",
       "    }\n",
       "\n",
       "    .dataframe thead th {\n",
       "        text-align: right;\n",
       "    }\n",
       "</style>\n",
       "<table border=\"1\" class=\"dataframe\">\n",
       "  <thead>\n",
       "    <tr style=\"text-align: right;\">\n",
       "      <th></th>\n",
       "      <th>t_dat</th>\n",
       "      <th>customer_id</th>\n",
       "      <th>article_id</th>\n",
       "      <th>price</th>\n",
       "    </tr>\n",
       "  </thead>\n",
       "  <tbody>\n",
       "    <tr>\n",
       "      <th>0</th>\n",
       "      <td>2018-09-20</td>\n",
       "      <td>000058a12d5b43e67d225668fa1f8d618c13dc232df0ca...</td>\n",
       "      <td>663713001</td>\n",
       "      <td>0.050831</td>\n",
       "    </tr>\n",
       "    <tr>\n",
       "      <th>1</th>\n",
       "      <td>2018-09-20</td>\n",
       "      <td>000058a12d5b43e67d225668fa1f8d618c13dc232df0ca...</td>\n",
       "      <td>541518023</td>\n",
       "      <td>0.030492</td>\n",
       "    </tr>\n",
       "    <tr>\n",
       "      <th>2</th>\n",
       "      <td>2018-09-20</td>\n",
       "      <td>00007d2de826758b65a93dd24ce629ed66842531df6699...</td>\n",
       "      <td>505221004</td>\n",
       "      <td>0.015237</td>\n",
       "    </tr>\n",
       "    <tr>\n",
       "      <th>3</th>\n",
       "      <td>2018-09-20</td>\n",
       "      <td>00007d2de826758b65a93dd24ce629ed66842531df6699...</td>\n",
       "      <td>685687003</td>\n",
       "      <td>0.016932</td>\n",
       "    </tr>\n",
       "    <tr>\n",
       "      <th>4</th>\n",
       "      <td>2018-09-20</td>\n",
       "      <td>00007d2de826758b65a93dd24ce629ed66842531df6699...</td>\n",
       "      <td>685687004</td>\n",
       "      <td>0.016932</td>\n",
       "    </tr>\n",
       "    <tr>\n",
       "      <th>...</th>\n",
       "      <td>...</td>\n",
       "      <td>...</td>\n",
       "      <td>...</td>\n",
       "      <td>...</td>\n",
       "    </tr>\n",
       "    <tr>\n",
       "      <th>31788319</th>\n",
       "      <td>2020-09-22</td>\n",
       "      <td>fff2282977442e327b45d8c89afde25617d00124d0f999...</td>\n",
       "      <td>929511001</td>\n",
       "      <td>0.059305</td>\n",
       "    </tr>\n",
       "    <tr>\n",
       "      <th>31788320</th>\n",
       "      <td>2020-09-22</td>\n",
       "      <td>fff2282977442e327b45d8c89afde25617d00124d0f999...</td>\n",
       "      <td>891322004</td>\n",
       "      <td>0.042356</td>\n",
       "    </tr>\n",
       "    <tr>\n",
       "      <th>31788321</th>\n",
       "      <td>2020-09-22</td>\n",
       "      <td>fff380805474b287b05cb2a7507b9a013482f7dd0bce0e...</td>\n",
       "      <td>918325001</td>\n",
       "      <td>0.043203</td>\n",
       "    </tr>\n",
       "    <tr>\n",
       "      <th>31788322</th>\n",
       "      <td>2020-09-22</td>\n",
       "      <td>fff4d3a8b1f3b60af93e78c30a7cb4cf75edaf2590d3e5...</td>\n",
       "      <td>833459002</td>\n",
       "      <td>0.006763</td>\n",
       "    </tr>\n",
       "    <tr>\n",
       "      <th>31788323</th>\n",
       "      <td>2020-09-22</td>\n",
       "      <td>fffef3b6b73545df065b521e19f64bf6fe93bfd450ab20...</td>\n",
       "      <td>898573003</td>\n",
       "      <td>0.033881</td>\n",
       "    </tr>\n",
       "  </tbody>\n",
       "</table>\n",
       "<p>31788324 rows × 4 columns</p>\n",
       "</div>"
      ],
      "text/plain": [
       "               t_dat                                        customer_id  \\\n",
       "0         2018-09-20  000058a12d5b43e67d225668fa1f8d618c13dc232df0ca...   \n",
       "1         2018-09-20  000058a12d5b43e67d225668fa1f8d618c13dc232df0ca...   \n",
       "2         2018-09-20  00007d2de826758b65a93dd24ce629ed66842531df6699...   \n",
       "3         2018-09-20  00007d2de826758b65a93dd24ce629ed66842531df6699...   \n",
       "4         2018-09-20  00007d2de826758b65a93dd24ce629ed66842531df6699...   \n",
       "...              ...                                                ...   \n",
       "31788319  2020-09-22  fff2282977442e327b45d8c89afde25617d00124d0f999...   \n",
       "31788320  2020-09-22  fff2282977442e327b45d8c89afde25617d00124d0f999...   \n",
       "31788321  2020-09-22  fff380805474b287b05cb2a7507b9a013482f7dd0bce0e...   \n",
       "31788322  2020-09-22  fff4d3a8b1f3b60af93e78c30a7cb4cf75edaf2590d3e5...   \n",
       "31788323  2020-09-22  fffef3b6b73545df065b521e19f64bf6fe93bfd450ab20...   \n",
       "\n",
       "          article_id     price  \n",
       "0          663713001  0.050831  \n",
       "1          541518023  0.030492  \n",
       "2          505221004  0.015237  \n",
       "3          685687003  0.016932  \n",
       "4          685687004  0.016932  \n",
       "...              ...       ...  \n",
       "31788319   929511001  0.059305  \n",
       "31788320   891322004  0.042356  \n",
       "31788321   918325001  0.043203  \n",
       "31788322   833459002  0.006763  \n",
       "31788323   898573003  0.033881  \n",
       "\n",
       "[31788324 rows x 4 columns]"
      ]
     },
     "execution_count": 4,
     "metadata": {},
     "output_type": "execute_result"
    }
   ],
   "source": [
    "dt.drop(['sales_channel_id'], axis =1)"
   ]
  },
  {
   "cell_type": "markdown",
   "id": "9b48ac9d",
   "metadata": {},
   "source": [
    "> `t_dat` : Дата покупки  \n",
    "> `customer_id` : id клиента <br>\n",
    "> `article_id` : Aртикул приобретенного товара   \n",
    "> `price`: Цена товара  \n",
    " \n"
   ]
  },
  {
   "cell_type": "markdown",
   "id": "cbf52b29",
   "metadata": {},
   "source": [
    "Добавим столбец со значением даты покупки в формате Unix: "
   ]
  },
  {
   "cell_type": "code",
   "execution_count": 5,
   "id": "80dcce35",
   "metadata": {
    "scrolled": true
   },
   "outputs": [
    {
     "data": {
      "text/html": [
       "<div>\n",
       "<style scoped>\n",
       "    .dataframe tbody tr th:only-of-type {\n",
       "        vertical-align: middle;\n",
       "    }\n",
       "\n",
       "    .dataframe tbody tr th {\n",
       "        vertical-align: top;\n",
       "    }\n",
       "\n",
       "    .dataframe thead th {\n",
       "        text-align: right;\n",
       "    }\n",
       "</style>\n",
       "<table border=\"1\" class=\"dataframe\">\n",
       "  <thead>\n",
       "    <tr style=\"text-align: right;\">\n",
       "      <th></th>\n",
       "      <th>t_dat</th>\n",
       "      <th>customer_id</th>\n",
       "      <th>article_id</th>\n",
       "      <th>price</th>\n",
       "      <th>sales_channel_id</th>\n",
       "      <th>datetime</th>\n",
       "    </tr>\n",
       "  </thead>\n",
       "  <tbody>\n",
       "    <tr>\n",
       "      <th>0</th>\n",
       "      <td>2018-09-20</td>\n",
       "      <td>000058a12d5b43e67d225668fa1f8d618c13dc232df0ca...</td>\n",
       "      <td>663713001</td>\n",
       "      <td>0.050831</td>\n",
       "      <td>2</td>\n",
       "      <td>1.537384e+09</td>\n",
       "    </tr>\n",
       "    <tr>\n",
       "      <th>1</th>\n",
       "      <td>2018-09-20</td>\n",
       "      <td>000058a12d5b43e67d225668fa1f8d618c13dc232df0ca...</td>\n",
       "      <td>541518023</td>\n",
       "      <td>0.030492</td>\n",
       "      <td>2</td>\n",
       "      <td>1.537384e+09</td>\n",
       "    </tr>\n",
       "    <tr>\n",
       "      <th>2</th>\n",
       "      <td>2018-09-20</td>\n",
       "      <td>00007d2de826758b65a93dd24ce629ed66842531df6699...</td>\n",
       "      <td>505221004</td>\n",
       "      <td>0.015237</td>\n",
       "      <td>2</td>\n",
       "      <td>1.537384e+09</td>\n",
       "    </tr>\n",
       "    <tr>\n",
       "      <th>3</th>\n",
       "      <td>2018-09-20</td>\n",
       "      <td>00007d2de826758b65a93dd24ce629ed66842531df6699...</td>\n",
       "      <td>685687003</td>\n",
       "      <td>0.016932</td>\n",
       "      <td>2</td>\n",
       "      <td>1.537384e+09</td>\n",
       "    </tr>\n",
       "    <tr>\n",
       "      <th>4</th>\n",
       "      <td>2018-09-20</td>\n",
       "      <td>00007d2de826758b65a93dd24ce629ed66842531df6699...</td>\n",
       "      <td>685687004</td>\n",
       "      <td>0.016932</td>\n",
       "      <td>2</td>\n",
       "      <td>1.537384e+09</td>\n",
       "    </tr>\n",
       "    <tr>\n",
       "      <th>...</th>\n",
       "      <td>...</td>\n",
       "      <td>...</td>\n",
       "      <td>...</td>\n",
       "      <td>...</td>\n",
       "      <td>...</td>\n",
       "      <td>...</td>\n",
       "    </tr>\n",
       "    <tr>\n",
       "      <th>31788319</th>\n",
       "      <td>2020-09-22</td>\n",
       "      <td>fff2282977442e327b45d8c89afde25617d00124d0f999...</td>\n",
       "      <td>929511001</td>\n",
       "      <td>0.059305</td>\n",
       "      <td>2</td>\n",
       "      <td>1.600715e+09</td>\n",
       "    </tr>\n",
       "    <tr>\n",
       "      <th>31788320</th>\n",
       "      <td>2020-09-22</td>\n",
       "      <td>fff2282977442e327b45d8c89afde25617d00124d0f999...</td>\n",
       "      <td>891322004</td>\n",
       "      <td>0.042356</td>\n",
       "      <td>2</td>\n",
       "      <td>1.600715e+09</td>\n",
       "    </tr>\n",
       "    <tr>\n",
       "      <th>31788321</th>\n",
       "      <td>2020-09-22</td>\n",
       "      <td>fff380805474b287b05cb2a7507b9a013482f7dd0bce0e...</td>\n",
       "      <td>918325001</td>\n",
       "      <td>0.043203</td>\n",
       "      <td>1</td>\n",
       "      <td>1.600715e+09</td>\n",
       "    </tr>\n",
       "    <tr>\n",
       "      <th>31788322</th>\n",
       "      <td>2020-09-22</td>\n",
       "      <td>fff4d3a8b1f3b60af93e78c30a7cb4cf75edaf2590d3e5...</td>\n",
       "      <td>833459002</td>\n",
       "      <td>0.006763</td>\n",
       "      <td>1</td>\n",
       "      <td>1.600715e+09</td>\n",
       "    </tr>\n",
       "    <tr>\n",
       "      <th>31788323</th>\n",
       "      <td>2020-09-22</td>\n",
       "      <td>fffef3b6b73545df065b521e19f64bf6fe93bfd450ab20...</td>\n",
       "      <td>898573003</td>\n",
       "      <td>0.033881</td>\n",
       "      <td>2</td>\n",
       "      <td>1.600715e+09</td>\n",
       "    </tr>\n",
       "  </tbody>\n",
       "</table>\n",
       "<p>31788324 rows × 6 columns</p>\n",
       "</div>"
      ],
      "text/plain": [
       "               t_dat                                        customer_id  \\\n",
       "0         2018-09-20  000058a12d5b43e67d225668fa1f8d618c13dc232df0ca...   \n",
       "1         2018-09-20  000058a12d5b43e67d225668fa1f8d618c13dc232df0ca...   \n",
       "2         2018-09-20  00007d2de826758b65a93dd24ce629ed66842531df6699...   \n",
       "3         2018-09-20  00007d2de826758b65a93dd24ce629ed66842531df6699...   \n",
       "4         2018-09-20  00007d2de826758b65a93dd24ce629ed66842531df6699...   \n",
       "...              ...                                                ...   \n",
       "31788319  2020-09-22  fff2282977442e327b45d8c89afde25617d00124d0f999...   \n",
       "31788320  2020-09-22  fff2282977442e327b45d8c89afde25617d00124d0f999...   \n",
       "31788321  2020-09-22  fff380805474b287b05cb2a7507b9a013482f7dd0bce0e...   \n",
       "31788322  2020-09-22  fff4d3a8b1f3b60af93e78c30a7cb4cf75edaf2590d3e5...   \n",
       "31788323  2020-09-22  fffef3b6b73545df065b521e19f64bf6fe93bfd450ab20...   \n",
       "\n",
       "          article_id     price  sales_channel_id      datetime  \n",
       "0          663713001  0.050831                 2  1.537384e+09  \n",
       "1          541518023  0.030492                 2  1.537384e+09  \n",
       "2          505221004  0.015237                 2  1.537384e+09  \n",
       "3          685687003  0.016932                 2  1.537384e+09  \n",
       "4          685687004  0.016932                 2  1.537384e+09  \n",
       "...              ...       ...               ...           ...  \n",
       "31788319   929511001  0.059305                 2  1.600715e+09  \n",
       "31788320   891322004  0.042356                 2  1.600715e+09  \n",
       "31788321   918325001  0.043203                 1  1.600715e+09  \n",
       "31788322   833459002  0.006763                 1  1.600715e+09  \n",
       "31788323   898573003  0.033881                 2  1.600715e+09  \n",
       "\n",
       "[31788324 rows x 6 columns]"
      ]
     },
     "execution_count": 5,
     "metadata": {},
     "output_type": "execute_result"
    }
   ],
   "source": [
    "date_= []\n",
    "for i in dt['t_dat']:\n",
    "    date_2= time.mktime(datetime.datetime.strptime(i,\"%Y-%m-%d\").timetuple())\n",
    "    date_.append(date_2)\n",
    "dt['datetime'] = date_\n",
    "dt"
   ]
  },
  {
   "cell_type": "markdown",
   "id": "9538e9d8",
   "metadata": {},
   "source": [
    "### Проверка данных"
   ]
  },
  {
   "cell_type": "markdown",
   "id": "7b03d6b5",
   "metadata": {},
   "source": [
    "#### Проверка на процент пропущенных данных"
   ]
  },
  {
   "cell_type": "code",
   "execution_count": 6,
   "id": "6d557843",
   "metadata": {},
   "outputs": [
    {
     "name": "stdout",
     "output_type": "stream",
     "text": [
      "t_dat - 0%\n",
      "customer_id - 0%\n",
      "article_id - 0%\n",
      "price - 0%\n",
      "sales_channel_id - 0%\n",
      "datetime - 0%\n"
     ]
    }
   ],
   "source": [
    "for col in dt.columns:\n",
    "    pct_missing = np.mean(dt[col].isnull())\n",
    "    print('{} - {}%'.format(col, round(pct_missing*100)))"
   ]
  },
  {
   "cell_type": "markdown",
   "id": "91def408",
   "metadata": {},
   "source": [
    "Пропущенных данных не обнаружено"
   ]
  },
  {
   "cell_type": "markdown",
   "id": "6eb8f2b0",
   "metadata": {},
   "source": [
    "#### Проверка на выбросы признака 'price'"
   ]
  },
  {
   "cell_type": "code",
   "execution_count": 7,
   "id": "d6a94708",
   "metadata": {},
   "outputs": [
    {
     "data": {
      "text/plain": [
       "<AxesSubplot:>"
      ]
     },
     "execution_count": 7,
     "metadata": {},
     "output_type": "execute_result"
    },
    {
     "data": {
      "image/png": "[encoded data removed]",
      "text/plain": [
       "<Figure size 432x288 with 1 Axes>"
      ]
     },
     "metadata": {
      "needs_background": "light"
     },
     "output_type": "display_data"
    }
   ],
   "source": [
    "dt.boxplot(column=['price'])"
   ]
  },
  {
   "cell_type": "code",
   "execution_count": 8,
   "id": "33b4dfa0",
   "metadata": {},
   "outputs": [
    {
     "data": {
      "text/plain": [
       "[(0.05, 0.07)]"
      ]
     },
     "execution_count": 8,
     "metadata": {},
     "output_type": "execute_result"
    },
    {
     "data": {
      "image/png": "[encoded data removed]",
      "text/plain": [
       "<Figure size 432x288 with 1 Axes>"
      ]
     },
     "metadata": {
      "needs_background": "light"
     },
     "output_type": "display_data"
    }
   ],
   "source": [
    "dt.boxplot(column=['price']).set(ylim=(0.05,0.07))\n"
   ]
  },
  {
   "cell_type": "code",
   "execution_count": 9,
   "id": "7a1af5f7",
   "metadata": {},
   "outputs": [
    {
     "data": {
      "text/plain": [
       "count    3.178832e+07\n",
       "mean     2.782927e-02\n",
       "std      1.918113e-02\n",
       "min      1.694915e-05\n",
       "25%      1.581356e-02\n",
       "50%      2.540678e-02\n",
       "75%      3.388136e-02\n",
       "max      5.915254e-01\n",
       "Name: price, dtype: float64"
      ]
     },
     "execution_count": 9,
     "metadata": {},
     "output_type": "execute_result"
    }
   ],
   "source": [
    "dt['price'].describe()"
   ]
  },
  {
   "cell_type": "markdown",
   "id": "4c15a976",
   "metadata": {},
   "source": [
    "Очистка от выбросов:"
   ]
  },
  {
   "cell_type": "code",
   "execution_count": 10,
   "id": "3e266a09",
   "metadata": {},
   "outputs": [],
   "source": [
    "a = dt['price'].quantile(0.75)\n",
    "b = dt['price'].quantile(0.25)\n",
    "IQR = a - b\n",
    "up_line =  a + 1.5 * IQR #верхняя граница\n",
    "und_line = b - 1.5 * IQR #нижняя граница\n"
   ]
  },
  {
   "cell_type": "code",
   "execution_count": 11,
   "id": "d29edbde",
   "metadata": {},
   "outputs": [
    {
     "data": {
      "text/plain": [
       "0.0338813559322033"
      ]
     },
     "execution_count": 11,
     "metadata": {},
     "output_type": "execute_result"
    }
   ],
   "source": [
    "a"
   ]
  },
  {
   "cell_type": "code",
   "execution_count": 12,
   "id": "b64bc182",
   "metadata": {},
   "outputs": [
    {
     "data": {
      "text/plain": [
       "0.0158135593220338"
      ]
     },
     "execution_count": 12,
     "metadata": {},
     "output_type": "execute_result"
    }
   ],
   "source": [
    "b"
   ]
  },
  {
   "cell_type": "code",
   "execution_count": 13,
   "id": "c9607802",
   "metadata": {
    "scrolled": true
   },
   "outputs": [
    {
     "data": {
      "text/plain": [
       "0.06098305084745756"
      ]
     },
     "execution_count": 13,
     "metadata": {},
     "output_type": "execute_result"
    }
   ],
   "source": [
    "up_line"
   ]
  },
  {
   "cell_type": "code",
   "execution_count": 14,
   "id": "444b30ab",
   "metadata": {},
   "outputs": [
    {
     "data": {
      "text/plain": [
       "-0.011288135593220453"
      ]
     },
     "execution_count": 14,
     "metadata": {},
     "output_type": "execute_result"
    }
   ],
   "source": [
    "und_line"
   ]
  },
  {
   "cell_type": "code",
   "execution_count": 15,
   "id": "d89088dd",
   "metadata": {
    "scrolled": true
   },
   "outputs": [
    {
     "data": {
      "text/html": [
       "<div>\n",
       "<style scoped>\n",
       "    .dataframe tbody tr th:only-of-type {\n",
       "        vertical-align: middle;\n",
       "    }\n",
       "\n",
       "    .dataframe tbody tr th {\n",
       "        vertical-align: top;\n",
       "    }\n",
       "\n",
       "    .dataframe thead th {\n",
       "        text-align: right;\n",
       "    }\n",
       "</style>\n",
       "<table border=\"1\" class=\"dataframe\">\n",
       "  <thead>\n",
       "    <tr style=\"text-align: right;\">\n",
       "      <th></th>\n",
       "      <th>t_dat</th>\n",
       "      <th>customer_id</th>\n",
       "      <th>article_id</th>\n",
       "      <th>price</th>\n",
       "      <th>sales_channel_id</th>\n",
       "      <th>datetime</th>\n",
       "    </tr>\n",
       "  </thead>\n",
       "  <tbody>\n",
       "    <tr>\n",
       "      <th>0</th>\n",
       "      <td>2018-09-20</td>\n",
       "      <td>000058a12d5b43e67d225668fa1f8d618c13dc232df0ca...</td>\n",
       "      <td>663713001</td>\n",
       "      <td>0.050831</td>\n",
       "      <td>2</td>\n",
       "      <td>1.537384e+09</td>\n",
       "    </tr>\n",
       "    <tr>\n",
       "      <th>1</th>\n",
       "      <td>2018-09-20</td>\n",
       "      <td>000058a12d5b43e67d225668fa1f8d618c13dc232df0ca...</td>\n",
       "      <td>541518023</td>\n",
       "      <td>0.030492</td>\n",
       "      <td>2</td>\n",
       "      <td>1.537384e+09</td>\n",
       "    </tr>\n",
       "    <tr>\n",
       "      <th>2</th>\n",
       "      <td>2018-09-20</td>\n",
       "      <td>00007d2de826758b65a93dd24ce629ed66842531df6699...</td>\n",
       "      <td>505221004</td>\n",
       "      <td>0.015237</td>\n",
       "      <td>2</td>\n",
       "      <td>1.537384e+09</td>\n",
       "    </tr>\n",
       "    <tr>\n",
       "      <th>3</th>\n",
       "      <td>2018-09-20</td>\n",
       "      <td>00007d2de826758b65a93dd24ce629ed66842531df6699...</td>\n",
       "      <td>685687003</td>\n",
       "      <td>0.016932</td>\n",
       "      <td>2</td>\n",
       "      <td>1.537384e+09</td>\n",
       "    </tr>\n",
       "    <tr>\n",
       "      <th>4</th>\n",
       "      <td>2018-09-20</td>\n",
       "      <td>00007d2de826758b65a93dd24ce629ed66842531df6699...</td>\n",
       "      <td>685687004</td>\n",
       "      <td>0.016932</td>\n",
       "      <td>2</td>\n",
       "      <td>1.537384e+09</td>\n",
       "    </tr>\n",
       "    <tr>\n",
       "      <th>...</th>\n",
       "      <td>...</td>\n",
       "      <td>...</td>\n",
       "      <td>...</td>\n",
       "      <td>...</td>\n",
       "      <td>...</td>\n",
       "      <td>...</td>\n",
       "    </tr>\n",
       "    <tr>\n",
       "      <th>31788319</th>\n",
       "      <td>2020-09-22</td>\n",
       "      <td>fff2282977442e327b45d8c89afde25617d00124d0f999...</td>\n",
       "      <td>929511001</td>\n",
       "      <td>0.059305</td>\n",
       "      <td>2</td>\n",
       "      <td>1.600715e+09</td>\n",
       "    </tr>\n",
       "    <tr>\n",
       "      <th>31788320</th>\n",
       "      <td>2020-09-22</td>\n",
       "      <td>fff2282977442e327b45d8c89afde25617d00124d0f999...</td>\n",
       "      <td>891322004</td>\n",
       "      <td>0.042356</td>\n",
       "      <td>2</td>\n",
       "      <td>1.600715e+09</td>\n",
       "    </tr>\n",
       "    <tr>\n",
       "      <th>31788321</th>\n",
       "      <td>2020-09-22</td>\n",
       "      <td>fff380805474b287b05cb2a7507b9a013482f7dd0bce0e...</td>\n",
       "      <td>918325001</td>\n",
       "      <td>0.043203</td>\n",
       "      <td>1</td>\n",
       "      <td>1.600715e+09</td>\n",
       "    </tr>\n",
       "    <tr>\n",
       "      <th>31788322</th>\n",
       "      <td>2020-09-22</td>\n",
       "      <td>fff4d3a8b1f3b60af93e78c30a7cb4cf75edaf2590d3e5...</td>\n",
       "      <td>833459002</td>\n",
       "      <td>0.006763</td>\n",
       "      <td>1</td>\n",
       "      <td>1.600715e+09</td>\n",
       "    </tr>\n",
       "    <tr>\n",
       "      <th>31788323</th>\n",
       "      <td>2020-09-22</td>\n",
       "      <td>fffef3b6b73545df065b521e19f64bf6fe93bfd450ab20...</td>\n",
       "      <td>898573003</td>\n",
       "      <td>0.033881</td>\n",
       "      <td>2</td>\n",
       "      <td>1.600715e+09</td>\n",
       "    </tr>\n",
       "  </tbody>\n",
       "</table>\n",
       "<p>30220012 rows × 6 columns</p>\n",
       "</div>"
      ],
      "text/plain": [
       "               t_dat                                        customer_id  \\\n",
       "0         2018-09-20  000058a12d5b43e67d225668fa1f8d618c13dc232df0ca...   \n",
       "1         2018-09-20  000058a12d5b43e67d225668fa1f8d618c13dc232df0ca...   \n",
       "2         2018-09-20  00007d2de826758b65a93dd24ce629ed66842531df6699...   \n",
       "3         2018-09-20  00007d2de826758b65a93dd24ce629ed66842531df6699...   \n",
       "4         2018-09-20  00007d2de826758b65a93dd24ce629ed66842531df6699...   \n",
       "...              ...                                                ...   \n",
       "31788319  2020-09-22  fff2282977442e327b45d8c89afde25617d00124d0f999...   \n",
       "31788320  2020-09-22  fff2282977442e327b45d8c89afde25617d00124d0f999...   \n",
       "31788321  2020-09-22  fff380805474b287b05cb2a7507b9a013482f7dd0bce0e...   \n",
       "31788322  2020-09-22  fff4d3a8b1f3b60af93e78c30a7cb4cf75edaf2590d3e5...   \n",
       "31788323  2020-09-22  fffef3b6b73545df065b521e19f64bf6fe93bfd450ab20...   \n",
       "\n",
       "          article_id     price  sales_channel_id      datetime  \n",
       "0          663713001  0.050831                 2  1.537384e+09  \n",
       "1          541518023  0.030492                 2  1.537384e+09  \n",
       "2          505221004  0.015237                 2  1.537384e+09  \n",
       "3          685687003  0.016932                 2  1.537384e+09  \n",
       "4          685687004  0.016932                 2  1.537384e+09  \n",
       "...              ...       ...               ...           ...  \n",
       "31788319   929511001  0.059305                 2  1.600715e+09  \n",
       "31788320   891322004  0.042356                 2  1.600715e+09  \n",
       "31788321   918325001  0.043203                 1  1.600715e+09  \n",
       "31788322   833459002  0.006763                 1  1.600715e+09  \n",
       "31788323   898573003  0.033881                 2  1.600715e+09  \n",
       "\n",
       "[30220012 rows x 6 columns]"
      ]
     },
     "execution_count": 15,
     "metadata": {},
     "output_type": "execute_result"
    }
   ],
   "source": [
    "dt = dt.query('price > @und_line and price < @up_line')\n",
    "dt"
   ]
  },
  {
   "cell_type": "markdown",
   "id": "a718da3b",
   "metadata": {},
   "source": [
    "Проверка 'price':"
   ]
  },
  {
   "cell_type": "code",
   "execution_count": 16,
   "id": "fac59536",
   "metadata": {
    "scrolled": true
   },
   "outputs": [
    {
     "data": {
      "text/plain": [
       "<AxesSubplot:>"
      ]
     },
     "execution_count": 16,
     "metadata": {},
     "output_type": "execute_result"
    },
    {
     "data": {
      "image/png": "[encoded data removed]",
      "text/plain": [
       "<Figure size 432x288 with 1 Axes>"
      ]
     },
     "metadata": {
      "needs_background": "light"
     },
     "output_type": "display_data"
    }
   ],
   "source": [
    "dt.boxplot(column=['price'])"
   ]
  },
  {
   "cell_type": "code",
   "execution_count": 17,
   "id": "7ae3d765",
   "metadata": {},
   "outputs": [
    {
     "data": {
      "text/plain": [
       "<AxesSubplot:>"
      ]
     },
     "execution_count": 17,
     "metadata": {},
     "output_type": "execute_result"
    },
    {
     "data": {
      "image/png": "[encoded data removed]",
      "text/plain": [
       "<Figure size 432x288 with 1 Axes>"
      ]
     },
     "metadata": {
      "needs_background": "light"
     },
     "output_type": "display_data"
    }
   ],
   "source": [
    "dt['price'].hist()"
   ]
  },
  {
   "cell_type": "markdown",
   "id": "e4b3f960",
   "metadata": {},
   "source": [
    "Отсеивание частных покупателей от постаматов и точек магазинов:"
   ]
  },
  {
   "cell_type": "code",
   "execution_count": 18,
   "id": "a4957557",
   "metadata": {
    "scrolled": true
   },
   "outputs": [
    {
     "data": {
      "text/html": [
       "<div>\n",
       "<style scoped>\n",
       "    .dataframe tbody tr th:only-of-type {\n",
       "        vertical-align: middle;\n",
       "    }\n",
       "\n",
       "    .dataframe tbody tr th {\n",
       "        vertical-align: top;\n",
       "    }\n",
       "\n",
       "    .dataframe thead th {\n",
       "        text-align: right;\n",
       "    }\n",
       "</style>\n",
       "<table border=\"1\" class=\"dataframe\">\n",
       "  <thead>\n",
       "    <tr style=\"text-align: right;\">\n",
       "      <th></th>\n",
       "      <th>customer_id</th>\n",
       "      <th>article_id</th>\n",
       "    </tr>\n",
       "  </thead>\n",
       "  <tbody>\n",
       "    <tr>\n",
       "      <th>0</th>\n",
       "      <td>00000dbacae5abe5e23885899a1fa44253a17956c6d1c3...</td>\n",
       "      <td>21</td>\n",
       "    </tr>\n",
       "    <tr>\n",
       "      <th>1</th>\n",
       "      <td>0000423b00ade91418cceaf3b26c6af3dd342b51fd051e...</td>\n",
       "      <td>79</td>\n",
       "    </tr>\n",
       "    <tr>\n",
       "      <th>2</th>\n",
       "      <td>000058a12d5b43e67d225668fa1f8d618c13dc232df0ca...</td>\n",
       "      <td>15</td>\n",
       "    </tr>\n",
       "    <tr>\n",
       "      <th>3</th>\n",
       "      <td>00005ca1c9ed5f5146b52ac8639a40ca9d57aeff4d1bd2...</td>\n",
       "      <td>2</td>\n",
       "    </tr>\n",
       "    <tr>\n",
       "      <th>4</th>\n",
       "      <td>00006413d8573cd20ed7128e53b7b13819fe5cfc2d801f...</td>\n",
       "      <td>13</td>\n",
       "    </tr>\n",
       "    <tr>\n",
       "      <th>...</th>\n",
       "      <td>...</td>\n",
       "      <td>...</td>\n",
       "    </tr>\n",
       "    <tr>\n",
       "      <th>1338386</th>\n",
       "      <td>ffffa28cd7ab5d1cbbbfe7b582b1c419270cc0539f3dae...</td>\n",
       "      <td>3</td>\n",
       "    </tr>\n",
       "    <tr>\n",
       "      <th>1338387</th>\n",
       "      <td>ffffbbf78b6eaac697a8a5dfbfd2bfa8113ee5b403e474...</td>\n",
       "      <td>50</td>\n",
       "    </tr>\n",
       "    <tr>\n",
       "      <th>1338388</th>\n",
       "      <td>ffffcd5046a6143d29a04fb8c424ce494a76e5cdf4fab5...</td>\n",
       "      <td>81</td>\n",
       "    </tr>\n",
       "    <tr>\n",
       "      <th>1338389</th>\n",
       "      <td>ffffcf35913a0bee60e8741cb2b4e78b8a98ee5ff2e6a1...</td>\n",
       "      <td>45</td>\n",
       "    </tr>\n",
       "    <tr>\n",
       "      <th>1338390</th>\n",
       "      <td>ffffd7744cebcf3aca44ae7049d2a94b87074c3d4ffe38...</td>\n",
       "      <td>7</td>\n",
       "    </tr>\n",
       "  </tbody>\n",
       "</table>\n",
       "<p>1338391 rows × 2 columns</p>\n",
       "</div>"
      ],
      "text/plain": [
       "                                               customer_id  article_id\n",
       "0        00000dbacae5abe5e23885899a1fa44253a17956c6d1c3...          21\n",
       "1        0000423b00ade91418cceaf3b26c6af3dd342b51fd051e...          79\n",
       "2        000058a12d5b43e67d225668fa1f8d618c13dc232df0ca...          15\n",
       "3        00005ca1c9ed5f5146b52ac8639a40ca9d57aeff4d1bd2...           2\n",
       "4        00006413d8573cd20ed7128e53b7b13819fe5cfc2d801f...          13\n",
       "...                                                    ...         ...\n",
       "1338386  ffffa28cd7ab5d1cbbbfe7b582b1c419270cc0539f3dae...           3\n",
       "1338387  ffffbbf78b6eaac697a8a5dfbfd2bfa8113ee5b403e474...          50\n",
       "1338388  ffffcd5046a6143d29a04fb8c424ce494a76e5cdf4fab5...          81\n",
       "1338389  ffffcf35913a0bee60e8741cb2b4e78b8a98ee5ff2e6a1...          45\n",
       "1338390  ffffd7744cebcf3aca44ae7049d2a94b87074c3d4ffe38...           7\n",
       "\n",
       "[1338391 rows x 2 columns]"
      ]
     },
     "execution_count": 18,
     "metadata": {},
     "output_type": "execute_result"
    }
   ],
   "source": [
    "ds = pd.DataFrame(dt.groupby(['customer_id']).article_id.count()).reset_index()\n",
    "ds"
   ]
  },
  {
   "cell_type": "code",
   "execution_count": 19,
   "id": "0281950d",
   "metadata": {},
   "outputs": [
    {
     "data": {
      "text/plain": [
       "<AxesSubplot:>"
      ]
     },
     "execution_count": 19,
     "metadata": {},
     "output_type": "execute_result"
    },
    {
     "data": {
      "image/png": "[encoded data removed]",
      "text/plain": [
       "<Figure size 432x288 with 1 Axes>"
      ]
     },
     "metadata": {
      "needs_background": "light"
     },
     "output_type": "display_data"
    }
   ],
   "source": [
    "ds.boxplot(column=['article_id'])"
   ]
  },
  {
   "cell_type": "code",
   "execution_count": 20,
   "id": "e9e6135f",
   "metadata": {},
   "outputs": [
    {
     "data": {
      "text/plain": [
       "[(0.0, 250.0)]"
      ]
     },
     "execution_count": 20,
     "metadata": {},
     "output_type": "execute_result"
    },
    {
     "data": {
      "image/png": "[encoded data removed]",
      "text/plain": [
       "<Figure size 432x288 with 1 Axes>"
      ]
     },
     "metadata": {
      "needs_background": "light"
     },
     "output_type": "display_data"
    }
   ],
   "source": [
    "ds.boxplot(column=['article_id']).set(ylim=(0,250))"
   ]
  },
  {
   "cell_type": "code",
   "execution_count": 21,
   "id": "82cba127",
   "metadata": {},
   "outputs": [],
   "source": [
    "a_ds = ds['article_id'].quantile(0.75)\n",
    "b_ds = ds['article_id'].quantile(0.25)\n",
    "IQR_ds = a_ds - b_ds\n",
    "up_line_ds =  a_ds + 1.5 * IQR_ds #верхняя граница\n",
    "und_line_ds = b_ds - 1.5 * IQR_ds #нижняя граница"
   ]
  },
  {
   "cell_type": "code",
   "execution_count": 22,
   "id": "2cd7a5d1",
   "metadata": {},
   "outputs": [
    {
     "data": {
      "text/plain": [
       "60.5"
      ]
     },
     "execution_count": 22,
     "metadata": {},
     "output_type": "execute_result"
    }
   ],
   "source": [
    "up_line_ds"
   ]
  },
  {
   "cell_type": "code",
   "execution_count": 23,
   "id": "a0f8bd0f",
   "metadata": {},
   "outputs": [
    {
     "data": {
      "text/plain": [
       "-31.5"
      ]
     },
     "execution_count": 23,
     "metadata": {},
     "output_type": "execute_result"
    }
   ],
   "source": [
    "und_line_ds"
   ]
  },
  {
   "cell_type": "code",
   "execution_count": 24,
   "id": "0557fa26",
   "metadata": {
    "scrolled": false
   },
   "outputs": [
    {
     "data": {
      "text/html": [
       "<div>\n",
       "<style scoped>\n",
       "    .dataframe tbody tr th:only-of-type {\n",
       "        vertical-align: middle;\n",
       "    }\n",
       "\n",
       "    .dataframe tbody tr th {\n",
       "        vertical-align: top;\n",
       "    }\n",
       "\n",
       "    .dataframe thead th {\n",
       "        text-align: right;\n",
       "    }\n",
       "</style>\n",
       "<table border=\"1\" class=\"dataframe\">\n",
       "  <thead>\n",
       "    <tr style=\"text-align: right;\">\n",
       "      <th></th>\n",
       "      <th>customer_id</th>\n",
       "      <th>article_id</th>\n",
       "    </tr>\n",
       "  </thead>\n",
       "  <tbody>\n",
       "    <tr>\n",
       "      <th>0</th>\n",
       "      <td>00000dbacae5abe5e23885899a1fa44253a17956c6d1c3...</td>\n",
       "      <td>21</td>\n",
       "    </tr>\n",
       "    <tr>\n",
       "      <th>2</th>\n",
       "      <td>000058a12d5b43e67d225668fa1f8d618c13dc232df0ca...</td>\n",
       "      <td>15</td>\n",
       "    </tr>\n",
       "    <tr>\n",
       "      <th>3</th>\n",
       "      <td>00005ca1c9ed5f5146b52ac8639a40ca9d57aeff4d1bd2...</td>\n",
       "      <td>2</td>\n",
       "    </tr>\n",
       "    <tr>\n",
       "      <th>4</th>\n",
       "      <td>00006413d8573cd20ed7128e53b7b13819fe5cfc2d801f...</td>\n",
       "      <td>13</td>\n",
       "    </tr>\n",
       "    <tr>\n",
       "      <th>5</th>\n",
       "      <td>000064249685c11552da43ef22a5030f35a147f723d5b0...</td>\n",
       "      <td>3</td>\n",
       "    </tr>\n",
       "    <tr>\n",
       "      <th>...</th>\n",
       "      <td>...</td>\n",
       "      <td>...</td>\n",
       "    </tr>\n",
       "    <tr>\n",
       "      <th>1338385</th>\n",
       "      <td>ffff8f9ecdce722b5bab97fff68a6d1866492209bfe524...</td>\n",
       "      <td>8</td>\n",
       "    </tr>\n",
       "    <tr>\n",
       "      <th>1338386</th>\n",
       "      <td>ffffa28cd7ab5d1cbbbfe7b582b1c419270cc0539f3dae...</td>\n",
       "      <td>3</td>\n",
       "    </tr>\n",
       "    <tr>\n",
       "      <th>1338387</th>\n",
       "      <td>ffffbbf78b6eaac697a8a5dfbfd2bfa8113ee5b403e474...</td>\n",
       "      <td>50</td>\n",
       "    </tr>\n",
       "    <tr>\n",
       "      <th>1338389</th>\n",
       "      <td>ffffcf35913a0bee60e8741cb2b4e78b8a98ee5ff2e6a1...</td>\n",
       "      <td>45</td>\n",
       "    </tr>\n",
       "    <tr>\n",
       "      <th>1338390</th>\n",
       "      <td>ffffd7744cebcf3aca44ae7049d2a94b87074c3d4ffe38...</td>\n",
       "      <td>7</td>\n",
       "    </tr>\n",
       "  </tbody>\n",
       "</table>\n",
       "<p>1214279 rows × 2 columns</p>\n",
       "</div>"
      ],
      "text/plain": [
       "                                               customer_id  article_id\n",
       "0        00000dbacae5abe5e23885899a1fa44253a17956c6d1c3...          21\n",
       "2        000058a12d5b43e67d225668fa1f8d618c13dc232df0ca...          15\n",
       "3        00005ca1c9ed5f5146b52ac8639a40ca9d57aeff4d1bd2...           2\n",
       "4        00006413d8573cd20ed7128e53b7b13819fe5cfc2d801f...          13\n",
       "5        000064249685c11552da43ef22a5030f35a147f723d5b0...           3\n",
       "...                                                    ...         ...\n",
       "1338385  ffff8f9ecdce722b5bab97fff68a6d1866492209bfe524...           8\n",
       "1338386  ffffa28cd7ab5d1cbbbfe7b582b1c419270cc0539f3dae...           3\n",
       "1338387  ffffbbf78b6eaac697a8a5dfbfd2bfa8113ee5b403e474...          50\n",
       "1338389  ffffcf35913a0bee60e8741cb2b4e78b8a98ee5ff2e6a1...          45\n",
       "1338390  ffffd7744cebcf3aca44ae7049d2a94b87074c3d4ffe38...           7\n",
       "\n",
       "[1214279 rows x 2 columns]"
      ]
     },
     "execution_count": 24,
     "metadata": {},
     "output_type": "execute_result"
    }
   ],
   "source": [
    "ds = ds.query('article_id > @und_line_ds and article_id < @up_line_ds')\n",
    "ds"
   ]
  },
  {
   "cell_type": "markdown",
   "id": "9e77b316",
   "metadata": {},
   "source": [
    "Объединяем таблицы в исходную:"
   ]
  },
  {
   "cell_type": "code",
   "execution_count": 25,
   "id": "c9975856",
   "metadata": {},
   "outputs": [],
   "source": [
    "dt = dt.merge(ds, on = 'customer_id',how ='inner' )"
   ]
  },
  {
   "cell_type": "code",
   "execution_count": 26,
   "id": "1054c4fb",
   "metadata": {
    "scrolled": true
   },
   "outputs": [
    {
     "data": {
      "text/html": [
       "<div>\n",
       "<style scoped>\n",
       "    .dataframe tbody tr th:only-of-type {\n",
       "        vertical-align: middle;\n",
       "    }\n",
       "\n",
       "    .dataframe tbody tr th {\n",
       "        vertical-align: top;\n",
       "    }\n",
       "\n",
       "    .dataframe thead th {\n",
       "        text-align: right;\n",
       "    }\n",
       "</style>\n",
       "<table border=\"1\" class=\"dataframe\">\n",
       "  <thead>\n",
       "    <tr style=\"text-align: right;\">\n",
       "      <th></th>\n",
       "      <th>t_dat</th>\n",
       "      <th>customer_id</th>\n",
       "      <th>article_id_x</th>\n",
       "      <th>price</th>\n",
       "      <th>sales_channel_id</th>\n",
       "      <th>datetime</th>\n",
       "      <th>article_id_y</th>\n",
       "    </tr>\n",
       "  </thead>\n",
       "  <tbody>\n",
       "    <tr>\n",
       "      <th>0</th>\n",
       "      <td>2018-09-20</td>\n",
       "      <td>000058a12d5b43e67d225668fa1f8d618c13dc232df0ca...</td>\n",
       "      <td>663713001</td>\n",
       "      <td>0.050831</td>\n",
       "      <td>2</td>\n",
       "      <td>1.537384e+09</td>\n",
       "      <td>15</td>\n",
       "    </tr>\n",
       "    <tr>\n",
       "      <th>1</th>\n",
       "      <td>2018-09-20</td>\n",
       "      <td>000058a12d5b43e67d225668fa1f8d618c13dc232df0ca...</td>\n",
       "      <td>541518023</td>\n",
       "      <td>0.030492</td>\n",
       "      <td>2</td>\n",
       "      <td>1.537384e+09</td>\n",
       "      <td>15</td>\n",
       "    </tr>\n",
       "    <tr>\n",
       "      <th>2</th>\n",
       "      <td>2018-09-24</td>\n",
       "      <td>000058a12d5b43e67d225668fa1f8d618c13dc232df0ca...</td>\n",
       "      <td>663713001</td>\n",
       "      <td>0.050831</td>\n",
       "      <td>2</td>\n",
       "      <td>1.537729e+09</td>\n",
       "      <td>15</td>\n",
       "    </tr>\n",
       "    <tr>\n",
       "      <th>3</th>\n",
       "      <td>2019-03-01</td>\n",
       "      <td>000058a12d5b43e67d225668fa1f8d618c13dc232df0ca...</td>\n",
       "      <td>578020002</td>\n",
       "      <td>0.013542</td>\n",
       "      <td>2</td>\n",
       "      <td>1.551380e+09</td>\n",
       "      <td>15</td>\n",
       "    </tr>\n",
       "    <tr>\n",
       "      <th>4</th>\n",
       "      <td>2020-02-03</td>\n",
       "      <td>000058a12d5b43e67d225668fa1f8d618c13dc232df0ca...</td>\n",
       "      <td>723529001</td>\n",
       "      <td>0.025407</td>\n",
       "      <td>2</td>\n",
       "      <td>1.580670e+09</td>\n",
       "      <td>15</td>\n",
       "    </tr>\n",
       "    <tr>\n",
       "      <th>...</th>\n",
       "      <td>...</td>\n",
       "      <td>...</td>\n",
       "      <td>...</td>\n",
       "      <td>...</td>\n",
       "      <td>...</td>\n",
       "      <td>...</td>\n",
       "      <td>...</td>\n",
       "    </tr>\n",
       "    <tr>\n",
       "      <th>16348169</th>\n",
       "      <td>2020-09-22</td>\n",
       "      <td>fee56cc5315dafb35a4490ccc6f711092cae913550c832...</td>\n",
       "      <td>903647001</td>\n",
       "      <td>0.050831</td>\n",
       "      <td>2</td>\n",
       "      <td>1.600715e+09</td>\n",
       "      <td>2</td>\n",
       "    </tr>\n",
       "    <tr>\n",
       "      <th>16348170</th>\n",
       "      <td>2020-09-22</td>\n",
       "      <td>fee56cc5315dafb35a4490ccc6f711092cae913550c832...</td>\n",
       "      <td>903647001</td>\n",
       "      <td>0.050831</td>\n",
       "      <td>2</td>\n",
       "      <td>1.600715e+09</td>\n",
       "      <td>2</td>\n",
       "    </tr>\n",
       "    <tr>\n",
       "      <th>16348171</th>\n",
       "      <td>2020-09-22</td>\n",
       "      <td>ff5b8a8b26bf93a66290e9bd1b73393ac6a58968a78519...</td>\n",
       "      <td>913597001</td>\n",
       "      <td>0.042356</td>\n",
       "      <td>2</td>\n",
       "      <td>1.600715e+09</td>\n",
       "      <td>3</td>\n",
       "    </tr>\n",
       "    <tr>\n",
       "      <th>16348172</th>\n",
       "      <td>2020-09-22</td>\n",
       "      <td>ff5b8a8b26bf93a66290e9bd1b73393ac6a58968a78519...</td>\n",
       "      <td>903420001</td>\n",
       "      <td>0.033881</td>\n",
       "      <td>2</td>\n",
       "      <td>1.600715e+09</td>\n",
       "      <td>3</td>\n",
       "    </tr>\n",
       "    <tr>\n",
       "      <th>16348173</th>\n",
       "      <td>2020-09-22</td>\n",
       "      <td>ff5b8a8b26bf93a66290e9bd1b73393ac6a58968a78519...</td>\n",
       "      <td>761406001</td>\n",
       "      <td>0.025407</td>\n",
       "      <td>2</td>\n",
       "      <td>1.600715e+09</td>\n",
       "      <td>3</td>\n",
       "    </tr>\n",
       "  </tbody>\n",
       "</table>\n",
       "<p>16348174 rows × 7 columns</p>\n",
       "</div>"
      ],
      "text/plain": [
       "               t_dat                                        customer_id  \\\n",
       "0         2018-09-20  000058a12d5b43e67d225668fa1f8d618c13dc232df0ca...   \n",
       "1         2018-09-20  000058a12d5b43e67d225668fa1f8d618c13dc232df0ca...   \n",
       "2         2018-09-24  000058a12d5b43e67d225668fa1f8d618c13dc232df0ca...   \n",
       "3         2019-03-01  000058a12d5b43e67d225668fa1f8d618c13dc232df0ca...   \n",
       "4         2020-02-03  000058a12d5b43e67d225668fa1f8d618c13dc232df0ca...   \n",
       "...              ...                                                ...   \n",
       "16348169  2020-09-22  fee56cc5315dafb35a4490ccc6f711092cae913550c832...   \n",
       "16348170  2020-09-22  fee56cc5315dafb35a4490ccc6f711092cae913550c832...   \n",
       "16348171  2020-09-22  ff5b8a8b26bf93a66290e9bd1b73393ac6a58968a78519...   \n",
       "16348172  2020-09-22  ff5b8a8b26bf93a66290e9bd1b73393ac6a58968a78519...   \n",
       "16348173  2020-09-22  ff5b8a8b26bf93a66290e9bd1b73393ac6a58968a78519...   \n",
       "\n",
       "          article_id_x     price  sales_channel_id      datetime  article_id_y  \n",
       "0            663713001  0.050831                 2  1.537384e+09            15  \n",
       "1            541518023  0.030492                 2  1.537384e+09            15  \n",
       "2            663713001  0.050831                 2  1.537729e+09            15  \n",
       "3            578020002  0.013542                 2  1.551380e+09            15  \n",
       "4            723529001  0.025407                 2  1.580670e+09            15  \n",
       "...                ...       ...               ...           ...           ...  \n",
       "16348169     903647001  0.050831                 2  1.600715e+09             2  \n",
       "16348170     903647001  0.050831                 2  1.600715e+09             2  \n",
       "16348171     913597001  0.042356                 2  1.600715e+09             3  \n",
       "16348172     903420001  0.033881                 2  1.600715e+09             3  \n",
       "16348173     761406001  0.025407                 2  1.600715e+09             3  \n",
       "\n",
       "[16348174 rows x 7 columns]"
      ]
     },
     "execution_count": 26,
     "metadata": {},
     "output_type": "execute_result"
    }
   ],
   "source": [
    "dt"
   ]
  },
  {
   "cell_type": "markdown",
   "id": "2310893c",
   "metadata": {},
   "source": [
    "проверка на совпадение с ds:"
   ]
  },
  {
   "cell_type": "code",
   "execution_count": 27,
   "id": "7c49f162",
   "metadata": {
    "scrolled": true
   },
   "outputs": [
    {
     "data": {
      "text/plain": [
       "customer_id\n",
       "00000dbacae5abe5e23885899a1fa44253a17956c6d1c3d25f88aa139fdfc657    21\n",
       "000058a12d5b43e67d225668fa1f8d618c13dc232df0cad8ffe7ad4a1091e318    15\n",
       "00005ca1c9ed5f5146b52ac8639a40ca9d57aeff4d1bd2c5feb1ca5dff07c43e     2\n",
       "00006413d8573cd20ed7128e53b7b13819fe5cfc2d801fe7fc0f26dd8d65a85a    13\n",
       "000064249685c11552da43ef22a5030f35a147f723d5b02ddd9fd22452b1f5a6     3\n",
       "                                                                    ..\n",
       "ffff8f9ecdce722b5bab97fff68a6d1866492209bfe5242c50d2a10a652fb5ef     8\n",
       "ffffa28cd7ab5d1cbbbfe7b582b1c419270cc0539f3dae5bdfa4cf4b5874c806     3\n",
       "ffffbbf78b6eaac697a8a5dfbfd2bfa8113ee5b403e4747568cac33e8c541831    50\n",
       "ffffcf35913a0bee60e8741cb2b4e78b8a98ee5ff2e6a1778d0116cffd259264    45\n",
       "ffffd7744cebcf3aca44ae7049d2a94b87074c3d4ffe38b2236865d949d4df6a     7\n",
       "Name: article_id_x, Length: 1214279, dtype: int64"
      ]
     },
     "execution_count": 27,
     "metadata": {},
     "output_type": "execute_result"
    }
   ],
   "source": [
    "dt.groupby('customer_id').article_id_x.count() "
   ]
  },
  {
   "cell_type": "code",
   "execution_count": 28,
   "id": "d8bc9852",
   "metadata": {
    "scrolled": false
   },
   "outputs": [],
   "source": [
    "dt = dt[['t_dat', 'customer_id', 'article_id_x', 'price','datetime']]"
   ]
  },
  {
   "cell_type": "markdown",
   "id": "0fa65161",
   "metadata": {},
   "source": [
    "Итоговый датасет:"
   ]
  },
  {
   "cell_type": "code",
   "execution_count": 29,
   "id": "9a0e033e",
   "metadata": {
    "scrolled": true
   },
   "outputs": [
    {
     "data": {
      "text/html": [
       "<div>\n",
       "<style scoped>\n",
       "    .dataframe tbody tr th:only-of-type {\n",
       "        vertical-align: middle;\n",
       "    }\n",
       "\n",
       "    .dataframe tbody tr th {\n",
       "        vertical-align: top;\n",
       "    }\n",
       "\n",
       "    .dataframe thead th {\n",
       "        text-align: right;\n",
       "    }\n",
       "</style>\n",
       "<table border=\"1\" class=\"dataframe\">\n",
       "  <thead>\n",
       "    <tr style=\"text-align: right;\">\n",
       "      <th></th>\n",
       "      <th>t_dat</th>\n",
       "      <th>customer_id</th>\n",
       "      <th>article_id</th>\n",
       "      <th>price</th>\n",
       "      <th>datetime</th>\n",
       "    </tr>\n",
       "  </thead>\n",
       "  <tbody>\n",
       "    <tr>\n",
       "      <th>0</th>\n",
       "      <td>2018-09-20</td>\n",
       "      <td>000058a12d5b43e67d225668fa1f8d618c13dc232df0ca...</td>\n",
       "      <td>663713001</td>\n",
       "      <td>0.050831</td>\n",
       "      <td>1.537384e+09</td>\n",
       "    </tr>\n",
       "    <tr>\n",
       "      <th>1</th>\n",
       "      <td>2018-09-20</td>\n",
       "      <td>000058a12d5b43e67d225668fa1f8d618c13dc232df0ca...</td>\n",
       "      <td>541518023</td>\n",
       "      <td>0.030492</td>\n",
       "      <td>1.537384e+09</td>\n",
       "    </tr>\n",
       "    <tr>\n",
       "      <th>2</th>\n",
       "      <td>2018-09-24</td>\n",
       "      <td>000058a12d5b43e67d225668fa1f8d618c13dc232df0ca...</td>\n",
       "      <td>663713001</td>\n",
       "      <td>0.050831</td>\n",
       "      <td>1.537729e+09</td>\n",
       "    </tr>\n",
       "    <tr>\n",
       "      <th>3</th>\n",
       "      <td>2019-03-01</td>\n",
       "      <td>000058a12d5b43e67d225668fa1f8d618c13dc232df0ca...</td>\n",
       "      <td>578020002</td>\n",
       "      <td>0.013542</td>\n",
       "      <td>1.551380e+09</td>\n",
       "    </tr>\n",
       "    <tr>\n",
       "      <th>4</th>\n",
       "      <td>2020-02-03</td>\n",
       "      <td>000058a12d5b43e67d225668fa1f8d618c13dc232df0ca...</td>\n",
       "      <td>723529001</td>\n",
       "      <td>0.025407</td>\n",
       "      <td>1.580670e+09</td>\n",
       "    </tr>\n",
       "    <tr>\n",
       "      <th>...</th>\n",
       "      <td>...</td>\n",
       "      <td>...</td>\n",
       "      <td>...</td>\n",
       "      <td>...</td>\n",
       "      <td>...</td>\n",
       "    </tr>\n",
       "    <tr>\n",
       "      <th>16348169</th>\n",
       "      <td>2020-09-22</td>\n",
       "      <td>fee56cc5315dafb35a4490ccc6f711092cae913550c832...</td>\n",
       "      <td>903647001</td>\n",
       "      <td>0.050831</td>\n",
       "      <td>1.600715e+09</td>\n",
       "    </tr>\n",
       "    <tr>\n",
       "      <th>16348170</th>\n",
       "      <td>2020-09-22</td>\n",
       "      <td>fee56cc5315dafb35a4490ccc6f711092cae913550c832...</td>\n",
       "      <td>903647001</td>\n",
       "      <td>0.050831</td>\n",
       "      <td>1.600715e+09</td>\n",
       "    </tr>\n",
       "    <tr>\n",
       "      <th>16348171</th>\n",
       "      <td>2020-09-22</td>\n",
       "      <td>ff5b8a8b26bf93a66290e9bd1b73393ac6a58968a78519...</td>\n",
       "      <td>913597001</td>\n",
       "      <td>0.042356</td>\n",
       "      <td>1.600715e+09</td>\n",
       "    </tr>\n",
       "    <tr>\n",
       "      <th>16348172</th>\n",
       "      <td>2020-09-22</td>\n",
       "      <td>ff5b8a8b26bf93a66290e9bd1b73393ac6a58968a78519...</td>\n",
       "      <td>903420001</td>\n",
       "      <td>0.033881</td>\n",
       "      <td>1.600715e+09</td>\n",
       "    </tr>\n",
       "    <tr>\n",
       "      <th>16348173</th>\n",
       "      <td>2020-09-22</td>\n",
       "      <td>ff5b8a8b26bf93a66290e9bd1b73393ac6a58968a78519...</td>\n",
       "      <td>761406001</td>\n",
       "      <td>0.025407</td>\n",
       "      <td>1.600715e+09</td>\n",
       "    </tr>\n",
       "  </tbody>\n",
       "</table>\n",
       "<p>16348174 rows × 5 columns</p>\n",
       "</div>"
      ],
      "text/plain": [
       "               t_dat                                        customer_id  \\\n",
       "0         2018-09-20  000058a12d5b43e67d225668fa1f8d618c13dc232df0ca...   \n",
       "1         2018-09-20  000058a12d5b43e67d225668fa1f8d618c13dc232df0ca...   \n",
       "2         2018-09-24  000058a12d5b43e67d225668fa1f8d618c13dc232df0ca...   \n",
       "3         2019-03-01  000058a12d5b43e67d225668fa1f8d618c13dc232df0ca...   \n",
       "4         2020-02-03  000058a12d5b43e67d225668fa1f8d618c13dc232df0ca...   \n",
       "...              ...                                                ...   \n",
       "16348169  2020-09-22  fee56cc5315dafb35a4490ccc6f711092cae913550c832...   \n",
       "16348170  2020-09-22  fee56cc5315dafb35a4490ccc6f711092cae913550c832...   \n",
       "16348171  2020-09-22  ff5b8a8b26bf93a66290e9bd1b73393ac6a58968a78519...   \n",
       "16348172  2020-09-22  ff5b8a8b26bf93a66290e9bd1b73393ac6a58968a78519...   \n",
       "16348173  2020-09-22  ff5b8a8b26bf93a66290e9bd1b73393ac6a58968a78519...   \n",
       "\n",
       "          article_id     price      datetime  \n",
       "0          663713001  0.050831  1.537384e+09  \n",
       "1          541518023  0.030492  1.537384e+09  \n",
       "2          663713001  0.050831  1.537729e+09  \n",
       "3          578020002  0.013542  1.551380e+09  \n",
       "4          723529001  0.025407  1.580670e+09  \n",
       "...              ...       ...           ...  \n",
       "16348169   903647001  0.050831  1.600715e+09  \n",
       "16348170   903647001  0.050831  1.600715e+09  \n",
       "16348171   913597001  0.042356  1.600715e+09  \n",
       "16348172   903420001  0.033881  1.600715e+09  \n",
       "16348173   761406001  0.025407  1.600715e+09  \n",
       "\n",
       "[16348174 rows x 5 columns]"
      ]
     },
     "execution_count": 29,
     "metadata": {},
     "output_type": "execute_result"
    }
   ],
   "source": [
    "dt = dt.rename(columns={'article_id_x' :'article_id'})\n",
    "dt"
   ]
  },
  {
   "cell_type": "code",
   "execution_count": null,
   "id": "ea9e8a83",
   "metadata": {},
   "outputs": [],
   "source": []
  },
  {
   "cell_type": "markdown",
   "id": "32fadcf4",
   "metadata": {},
   "source": [
    "# ______"
   ]
  },
  {
   "cell_type": "markdown",
   "id": "ee9b93a3",
   "metadata": {},
   "source": [
    "### Основная часть"
   ]
  },
  {
   "cell_type": "raw",
   "id": "e38d4f9e",
   "metadata": {},
   "source": [
    "Определим какие временные перерывы в покупках бывают у разных клиентов:"
   ]
  },
  {
   "cell_type": "code",
   "execution_count": 49,
   "id": "7f55015d",
   "metadata": {
    "scrolled": true
   },
   "outputs": [],
   "source": [
    "diff_date = dt.groupby('customer_id')['datetime'].apply(list).apply(np.diff).values"
   ]
  },
  {
   "cell_type": "code",
   "execution_count": 50,
   "id": "f85cf40b",
   "metadata": {},
   "outputs": [
    {
     "data": {
      "text/plain": [
       "array([array([       0.,        0., 10886400.,  1987200.,        0.,  5270400.,\n",
       "                     0.,  4752000.,   864000.,        0.,  4752000.,   518400.,\n",
       "                     0.,        0.,  9849600.,        0.,        0.,        0.,\n",
       "                     0., 14515200.])                                           ,\n",
       "       array([       0.,   345600., 13651200., 29289600.,        0.,        0.,\n",
       "               6480000.,        0.,        0.,        0.,        0.,        0.,\n",
       "                     0.,        0.])                                           ,\n",
       "       array([0.]), ...,\n",
       "       array([       0.,        0.,        0.,        0.,        0.,        0.,\n",
       "                     0.,        0.,        0.,        0.,        0.,        0.,\n",
       "                     0.,        0.,        0.,        0.,  1296000.,  3283200.,\n",
       "                     0.,        0.,        0., 15811200.,   777600.,        0.,\n",
       "               9072000.,        0.,  2160000.,        0.,        0.,        0.,\n",
       "                     0.,        0.,  4924800.,  1036800.,        0.,        0.,\n",
       "                     0.,  4665600.,        0.,        0.,        0.,        0.,\n",
       "                     0.,  2073600.,        0.,        0.,        0.,        0.,\n",
       "                     0.])                                                      ,\n",
       "       array([ 2419200.,        0.,  4060800.,        0.,        0.,        0.,\n",
       "                172800.,   604800.,   777600.,  2851200.,        0.,        0.,\n",
       "                     0.,        0.,        0.,   259200.,        0.,   172800.,\n",
       "                     0.,        0.,        0.,        0.,        0., 13392000.,\n",
       "                     0.,        0.,  3110400.,  2419200.,        0.,  1987200.,\n",
       "                691200.,        0.,        0.,  9331200., 14083200.,        0.,\n",
       "                     0.,  1123200.,        0.,        0.,  4665600.,        0.,\n",
       "                     0.,    86400.])                                           ,\n",
       "       array([      0.,       0.,  345600.,       0., 1382400., 5011200.])],\n",
       "      dtype=object)"
      ]
     },
     "execution_count": 50,
     "metadata": {},
     "output_type": "execute_result"
    }
   ],
   "source": [
    "diff_date"
   ]
  },
  {
   "cell_type": "code",
   "execution_count": 51,
   "id": "f3b65415",
   "metadata": {},
   "outputs": [],
   "source": [
    "diff_date = pd.Series(np.concatenate(diff_date, axis =0))"
   ]
  },
  {
   "cell_type": "code",
   "execution_count": 52,
   "id": "0bc7cc7c",
   "metadata": {},
   "outputs": [
    {
     "data": {
      "text/plain": [
       "0                  0.0\n",
       "1                  0.0\n",
       "2           10886400.0\n",
       "3            1987200.0\n",
       "4                  0.0\n",
       "               ...    \n",
       "15133890           0.0\n",
       "15133891      345600.0\n",
       "15133892           0.0\n",
       "15133893     1382400.0\n",
       "15133894     5011200.0\n",
       "Length: 15133895, dtype: float64"
      ]
     },
     "execution_count": 52,
     "metadata": {},
     "output_type": "execute_result"
    }
   ],
   "source": [
    "diff_date"
   ]
  },
  {
   "cell_type": "code",
   "execution_count": 32,
   "id": "10834cc7",
   "metadata": {},
   "outputs": [
    {
     "data": {
      "text/plain": [
       "0             0.0\n",
       "1             0.0\n",
       "2           126.0\n",
       "3            23.0\n",
       "4             0.0\n",
       "            ...  \n",
       "15133890      0.0\n",
       "15133891      4.0\n",
       "15133892      0.0\n",
       "15133893     16.0\n",
       "15133894     58.0\n",
       "Length: 15133895, dtype: float64"
      ]
     },
     "execution_count": 32,
     "metadata": {},
     "output_type": "execute_result"
    }
   ],
   "source": [
    "diff_date = diff_date / 86400 # перевод в сутки\n",
    "diff_date"
   ]
  },
  {
   "cell_type": "code",
   "execution_count": 33,
   "id": "0f0b7444",
   "metadata": {
    "scrolled": true
   },
   "outputs": [
    {
     "data": {
      "text/plain": [
       "<AxesSubplot:>"
      ]
     },
     "execution_count": 33,
     "metadata": {},
     "output_type": "execute_result"
    },
    {
     "data": {
      "image/png": "[encoded data removed]",
      "text/plain": [
       "<Figure size 432x288 with 1 Axes>"
      ]
     },
     "metadata": {
      "needs_background": "light"
     },
     "output_type": "display_data"
    }
   ],
   "source": [
    "diff_date.hist()"
   ]
  },
  {
   "cell_type": "code",
   "execution_count": 34,
   "id": "3ec48f90",
   "metadata": {},
   "outputs": [],
   "source": [
    "buy = pd.DataFrame({\n",
    "'persons': ['10%','20%','30%','40%','50%','60%','70%','80%','90%','100%'],\n",
    "'day':[diff_date.quantile(0.1),\n",
    "         diff_date.quantile(0.2),\n",
    "         diff_date.quantile(0.3),\n",
    "         diff_date.quantile(0.4),\n",
    "         diff_date.quantile(0.5),\n",
    "         diff_date.quantile(0.6),\n",
    "         diff_date.quantile(0.7),\n",
    "         diff_date.quantile(0.8),\n",
    "         diff_date.quantile(0.9),\n",
    "         diff_date.quantile(1)]})\n",
    "\n"
   ]
  },
  {
   "cell_type": "code",
   "execution_count": 35,
   "id": "a1c192b1",
   "metadata": {
    "scrolled": true
   },
   "outputs": [
    {
     "data": {
      "text/html": [
       "<div>\n",
       "<style scoped>\n",
       "    .dataframe tbody tr th:only-of-type {\n",
       "        vertical-align: middle;\n",
       "    }\n",
       "\n",
       "    .dataframe tbody tr th {\n",
       "        vertical-align: top;\n",
       "    }\n",
       "\n",
       "    .dataframe thead th {\n",
       "        text-align: right;\n",
       "    }\n",
       "</style>\n",
       "<table border=\"1\" class=\"dataframe\">\n",
       "  <thead>\n",
       "    <tr style=\"text-align: right;\">\n",
       "      <th></th>\n",
       "      <th>persons</th>\n",
       "      <th>day</th>\n",
       "    </tr>\n",
       "  </thead>\n",
       "  <tbody>\n",
       "    <tr>\n",
       "      <th>0</th>\n",
       "      <td>10%</td>\n",
       "      <td>0.0</td>\n",
       "    </tr>\n",
       "    <tr>\n",
       "      <th>1</th>\n",
       "      <td>20%</td>\n",
       "      <td>0.0</td>\n",
       "    </tr>\n",
       "    <tr>\n",
       "      <th>2</th>\n",
       "      <td>30%</td>\n",
       "      <td>0.0</td>\n",
       "    </tr>\n",
       "    <tr>\n",
       "      <th>3</th>\n",
       "      <td>40%</td>\n",
       "      <td>0.0</td>\n",
       "    </tr>\n",
       "    <tr>\n",
       "      <th>4</th>\n",
       "      <td>50%</td>\n",
       "      <td>0.0</td>\n",
       "    </tr>\n",
       "    <tr>\n",
       "      <th>5</th>\n",
       "      <td>60%</td>\n",
       "      <td>0.0</td>\n",
       "    </tr>\n",
       "    <tr>\n",
       "      <th>6</th>\n",
       "      <td>70%</td>\n",
       "      <td>0.0</td>\n",
       "    </tr>\n",
       "    <tr>\n",
       "      <th>7</th>\n",
       "      <td>80%</td>\n",
       "      <td>15.0</td>\n",
       "    </tr>\n",
       "    <tr>\n",
       "      <th>8</th>\n",
       "      <td>90%</td>\n",
       "      <td>59.0</td>\n",
       "    </tr>\n",
       "    <tr>\n",
       "      <th>9</th>\n",
       "      <td>100%</td>\n",
       "      <td>731.0</td>\n",
       "    </tr>\n",
       "  </tbody>\n",
       "</table>\n",
       "</div>"
      ],
      "text/plain": [
       "  persons    day\n",
       "0     10%    0.0\n",
       "1     20%    0.0\n",
       "2     30%    0.0\n",
       "3     40%    0.0\n",
       "4     50%    0.0\n",
       "5     60%    0.0\n",
       "6     70%    0.0\n",
       "7     80%   15.0\n",
       "8     90%   59.0\n",
       "9    100%  731.0"
      ]
     },
     "execution_count": 35,
     "metadata": {},
     "output_type": "execute_result"
    }
   ],
   "source": [
    "buy"
   ]
  },
  {
   "cell_type": "markdown",
   "id": "e19a0c3a",
   "metadata": {},
   "source": [
    "### Вывод:"
   ]
  },
  {
   "cell_type": "markdown",
   "id": "c7830631",
   "metadata": {},
   "source": [
    "#### 80% покупателей совершают повторную покупку в течении около 2х недель (15 дней) с момента последней покупки.\n"
   ]
  },
  {
   "cell_type": "markdown",
   "id": "052ebc28",
   "metadata": {},
   "source": [
    "#### Еще 10 % покупателей предпочитает совершать новую покупку с частотой примерно раз в 2 месяца (59 дней)."
   ]
  },
  {
   "cell_type": "markdown",
   "id": "70b7d010",
   "metadata": {},
   "source": [
    "#### И еще 10% можем считать за \"потерявшихся\" покупатетлей, так как они совершают покупку всего раз в 2 года (731 день)."
   ]
  },
  {
   "cell_type": "markdown",
   "id": "2403f423",
   "metadata": {},
   "source": [
    "#### Что бы подобные клиенты делали покупки чаще воспользуемся Push-уведомлением о скидках, акциях и расспродажах. Отправлять его покупателю будет резонно на 59 день \"без покупки\", что бы не оповещать зря более лояльных клиентов. "
   ]
  }
 ],
 "metadata": {
  "kernelspec": {
   "display_name": "Python 3 (ipykernel)",
   "language": "python",
   "name": "python3"
  },
  "language_info": {
   "codemirror_mode": {
    "name": "ipython",
    "version": 3
   },
   "file_extension": ".py",
   "mimetype": "text/x-python",
   "name": "python",
   "nbconvert_exporter": "python",
   "pygments_lexer": "ipython3",
   "version": "3.9.12"
  }
 },
 "nbformat": 4,
 "nbformat_minor": 5
}
