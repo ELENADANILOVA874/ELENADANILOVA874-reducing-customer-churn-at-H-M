{
 "cells": [
  {
   "cell_type": "markdown",
   "id": "a4b0b446",
   "metadata": {},
   "source": [
    "## Использование Push-уведомлений для уменьшения оттока клиентов, на примере данных из магазина \"H&M\""
   ]
  },
  {
   "cell_type": "markdown",
   "id": "930c100d",
   "metadata": {},
   "source": [
    "### Загрузка данных"
   ]
  },
  {
   "cell_type": "code",
   "execution_count": 1,
   "id": "1abda31e",
   "metadata": {},
   "outputs": [],
   "source": [
    "import pandas as pd\n",
    "import numpy as np\n",
    "import seaborn as sns \n",
    "import datetime\n",
    "import time  \n",
    "import matplotlib.pyplot as plt\n",
    "from scipy import stats\n",
    "\n",
    "\n",
    "\n",
    "\n",
    "\n",
    "%matplotlib inline "
   ]
  },
  {
   "cell_type": "code",
   "execution_count": 54,
   "id": "ce8b54e9",
   "metadata": {},
   "outputs": [],
   "source": [
    "dt = pd.read_csv('transactions_train_1mln.csv', encoding='windows-1251', sep=',')"
   ]
  },
  {
   "cell_type": "code",
   "execution_count": 55,
   "id": "85b78d9c",
   "metadata": {
    "scrolled": true
   },
   "outputs": [
    {
     "data": {
      "text/html": [
       "<div>\n",
       "<style scoped>\n",
       "    .dataframe tbody tr th:only-of-type {\n",
       "        vertical-align: middle;\n",
       "    }\n",
       "\n",
       "    .dataframe tbody tr th {\n",
       "        vertical-align: top;\n",
       "    }\n",
       "\n",
       "    .dataframe thead th {\n",
       "        text-align: right;\n",
       "    }\n",
       "</style>\n",
       "<table border=\"1\" class=\"dataframe\">\n",
       "  <thead>\n",
       "    <tr style=\"text-align: right;\">\n",
       "      <th></th>\n",
       "      <th>Unnamed: 0</th>\n",
       "      <th>t_dat</th>\n",
       "      <th>customer_id</th>\n",
       "      <th>article_id</th>\n",
       "      <th>price</th>\n",
       "      <th>sales_channel_id</th>\n",
       "    </tr>\n",
       "  </thead>\n",
       "  <tbody>\n",
       "    <tr>\n",
       "      <th>0</th>\n",
       "      <td>20897655</td>\n",
       "      <td>2020-01-03</td>\n",
       "      <td>af4658f8651730d6aa32c8b66f677a73a62ff2074b8443...</td>\n",
       "      <td>803757004</td>\n",
       "      <td>0.016932</td>\n",
       "      <td>2</td>\n",
       "    </tr>\n",
       "    <tr>\n",
       "      <th>1</th>\n",
       "      <td>9771050</td>\n",
       "      <td>2019-05-03</td>\n",
       "      <td>b1dadb55234d5df0135bc96f418d7184121937aefe2988...</td>\n",
       "      <td>662344015</td>\n",
       "      <td>0.032661</td>\n",
       "      <td>2</td>\n",
       "    </tr>\n",
       "    <tr>\n",
       "      <th>2</th>\n",
       "      <td>2018540</td>\n",
       "      <td>2018-11-01</td>\n",
       "      <td>a49a517a5e703a4b7d8c159a12a832f7dc917023cc37d5...</td>\n",
       "      <td>640613002</td>\n",
       "      <td>0.011847</td>\n",
       "      <td>2</td>\n",
       "    </tr>\n",
       "    <tr>\n",
       "      <th>3</th>\n",
       "      <td>26802034</td>\n",
       "      <td>2020-06-04</td>\n",
       "      <td>7a8ae54f930bb455f0cc3c3edf2dda713811ddd62ce488...</td>\n",
       "      <td>816423002</td>\n",
       "      <td>0.025407</td>\n",
       "      <td>2</td>\n",
       "    </tr>\n",
       "    <tr>\n",
       "      <th>4</th>\n",
       "      <td>20447952</td>\n",
       "      <td>2019-12-21</td>\n",
       "      <td>b7f4eaf989e5702ca3752adf68f3c51a7e327f62495529...</td>\n",
       "      <td>777070005</td>\n",
       "      <td>0.030492</td>\n",
       "      <td>1</td>\n",
       "    </tr>\n",
       "    <tr>\n",
       "      <th>...</th>\n",
       "      <td>...</td>\n",
       "      <td>...</td>\n",
       "      <td>...</td>\n",
       "      <td>...</td>\n",
       "      <td>...</td>\n",
       "      <td>...</td>\n",
       "    </tr>\n",
       "    <tr>\n",
       "      <th>999995</th>\n",
       "      <td>28928970</td>\n",
       "      <td>2020-07-12</td>\n",
       "      <td>70a83da26e416169a9d35c39395764bf77fb756f09d29e...</td>\n",
       "      <td>877014005</td>\n",
       "      <td>0.033153</td>\n",
       "      <td>1</td>\n",
       "    </tr>\n",
       "    <tr>\n",
       "      <th>999996</th>\n",
       "      <td>11040801</td>\n",
       "      <td>2019-05-30</td>\n",
       "      <td>2bc1317b6db05a3596dc281f88eff94a472f87b93ff246...</td>\n",
       "      <td>681385001</td>\n",
       "      <td>0.025407</td>\n",
       "      <td>2</td>\n",
       "    </tr>\n",
       "    <tr>\n",
       "      <th>999997</th>\n",
       "      <td>1480996</td>\n",
       "      <td>2018-10-21</td>\n",
       "      <td>bf698fdd9233f9bb6f1a835c2dfc169756219e5f4cb5fd...</td>\n",
       "      <td>667499018</td>\n",
       "      <td>0.025407</td>\n",
       "      <td>2</td>\n",
       "    </tr>\n",
       "    <tr>\n",
       "      <th>999998</th>\n",
       "      <td>14810532</td>\n",
       "      <td>2019-07-31</td>\n",
       "      <td>071e56e1fbbdda240e4fa1567e65a893f1da91cb44b78d...</td>\n",
       "      <td>697050017</td>\n",
       "      <td>0.010153</td>\n",
       "      <td>2</td>\n",
       "    </tr>\n",
       "    <tr>\n",
       "      <th>999999</th>\n",
       "      <td>10524082</td>\n",
       "      <td>2019-05-20</td>\n",
       "      <td>6bc2d74cdfa535a65d80f7ddc5cf3ddad0a7857848a6ab...</td>\n",
       "      <td>564045007</td>\n",
       "      <td>0.013542</td>\n",
       "      <td>2</td>\n",
       "    </tr>\n",
       "  </tbody>\n",
       "</table>\n",
       "<p>1000000 rows × 6 columns</p>\n",
       "</div>"
      ],
      "text/plain": [
       "        Unnamed: 0       t_dat  \\\n",
       "0         20897655  2020-01-03   \n",
       "1          9771050  2019-05-03   \n",
       "2          2018540  2018-11-01   \n",
       "3         26802034  2020-06-04   \n",
       "4         20447952  2019-12-21   \n",
       "...            ...         ...   \n",
       "999995    28928970  2020-07-12   \n",
       "999996    11040801  2019-05-30   \n",
       "999997     1480996  2018-10-21   \n",
       "999998    14810532  2019-07-31   \n",
       "999999    10524082  2019-05-20   \n",
       "\n",
       "                                              customer_id  article_id  \\\n",
       "0       af4658f8651730d6aa32c8b66f677a73a62ff2074b8443...   803757004   \n",
       "1       b1dadb55234d5df0135bc96f418d7184121937aefe2988...   662344015   \n",
       "2       a49a517a5e703a4b7d8c159a12a832f7dc917023cc37d5...   640613002   \n",
       "3       7a8ae54f930bb455f0cc3c3edf2dda713811ddd62ce488...   816423002   \n",
       "4       b7f4eaf989e5702ca3752adf68f3c51a7e327f62495529...   777070005   \n",
       "...                                                   ...         ...   \n",
       "999995  70a83da26e416169a9d35c39395764bf77fb756f09d29e...   877014005   \n",
       "999996  2bc1317b6db05a3596dc281f88eff94a472f87b93ff246...   681385001   \n",
       "999997  bf698fdd9233f9bb6f1a835c2dfc169756219e5f4cb5fd...   667499018   \n",
       "999998  071e56e1fbbdda240e4fa1567e65a893f1da91cb44b78d...   697050017   \n",
       "999999  6bc2d74cdfa535a65d80f7ddc5cf3ddad0a7857848a6ab...   564045007   \n",
       "\n",
       "           price  sales_channel_id  \n",
       "0       0.016932                 2  \n",
       "1       0.032661                 2  \n",
       "2       0.011847                 2  \n",
       "3       0.025407                 2  \n",
       "4       0.030492                 1  \n",
       "...          ...               ...  \n",
       "999995  0.033153                 1  \n",
       "999996  0.025407                 2  \n",
       "999997  0.025407                 2  \n",
       "999998  0.010153                 2  \n",
       "999999  0.013542                 2  \n",
       "\n",
       "[1000000 rows x 6 columns]"
      ]
     },
     "execution_count": 55,
     "metadata": {},
     "output_type": "execute_result"
    }
   ],
   "source": [
    "dt"
   ]
  },
  {
   "cell_type": "code",
   "execution_count": 56,
   "id": "a6f2e7c4",
   "metadata": {
    "scrolled": true
   },
   "outputs": [],
   "source": [
    "dt = dt.drop(['sales_channel_id','Unnamed: 0'], axis =1)"
   ]
  },
  {
   "cell_type": "code",
   "execution_count": 57,
   "id": "91c33c6a",
   "metadata": {},
   "outputs": [
    {
     "data": {
      "text/html": [
       "<div>\n",
       "<style scoped>\n",
       "    .dataframe tbody tr th:only-of-type {\n",
       "        vertical-align: middle;\n",
       "    }\n",
       "\n",
       "    .dataframe tbody tr th {\n",
       "        vertical-align: top;\n",
       "    }\n",
       "\n",
       "    .dataframe thead th {\n",
       "        text-align: right;\n",
       "    }\n",
       "</style>\n",
       "<table border=\"1\" class=\"dataframe\">\n",
       "  <thead>\n",
       "    <tr style=\"text-align: right;\">\n",
       "      <th></th>\n",
       "      <th>t_dat</th>\n",
       "      <th>customer_id</th>\n",
       "      <th>article_id</th>\n",
       "      <th>price</th>\n",
       "    </tr>\n",
       "  </thead>\n",
       "  <tbody>\n",
       "    <tr>\n",
       "      <th>0</th>\n",
       "      <td>2020-01-03</td>\n",
       "      <td>af4658f8651730d6aa32c8b66f677a73a62ff2074b8443...</td>\n",
       "      <td>803757004</td>\n",
       "      <td>0.016932</td>\n",
       "    </tr>\n",
       "    <tr>\n",
       "      <th>1</th>\n",
       "      <td>2019-05-03</td>\n",
       "      <td>b1dadb55234d5df0135bc96f418d7184121937aefe2988...</td>\n",
       "      <td>662344015</td>\n",
       "      <td>0.032661</td>\n",
       "    </tr>\n",
       "    <tr>\n",
       "      <th>2</th>\n",
       "      <td>2018-11-01</td>\n",
       "      <td>a49a517a5e703a4b7d8c159a12a832f7dc917023cc37d5...</td>\n",
       "      <td>640613002</td>\n",
       "      <td>0.011847</td>\n",
       "    </tr>\n",
       "    <tr>\n",
       "      <th>3</th>\n",
       "      <td>2020-06-04</td>\n",
       "      <td>7a8ae54f930bb455f0cc3c3edf2dda713811ddd62ce488...</td>\n",
       "      <td>816423002</td>\n",
       "      <td>0.025407</td>\n",
       "    </tr>\n",
       "    <tr>\n",
       "      <th>4</th>\n",
       "      <td>2019-12-21</td>\n",
       "      <td>b7f4eaf989e5702ca3752adf68f3c51a7e327f62495529...</td>\n",
       "      <td>777070005</td>\n",
       "      <td>0.030492</td>\n",
       "    </tr>\n",
       "    <tr>\n",
       "      <th>...</th>\n",
       "      <td>...</td>\n",
       "      <td>...</td>\n",
       "      <td>...</td>\n",
       "      <td>...</td>\n",
       "    </tr>\n",
       "    <tr>\n",
       "      <th>999995</th>\n",
       "      <td>2020-07-12</td>\n",
       "      <td>70a83da26e416169a9d35c39395764bf77fb756f09d29e...</td>\n",
       "      <td>877014005</td>\n",
       "      <td>0.033153</td>\n",
       "    </tr>\n",
       "    <tr>\n",
       "      <th>999996</th>\n",
       "      <td>2019-05-30</td>\n",
       "      <td>2bc1317b6db05a3596dc281f88eff94a472f87b93ff246...</td>\n",
       "      <td>681385001</td>\n",
       "      <td>0.025407</td>\n",
       "    </tr>\n",
       "    <tr>\n",
       "      <th>999997</th>\n",
       "      <td>2018-10-21</td>\n",
       "      <td>bf698fdd9233f9bb6f1a835c2dfc169756219e5f4cb5fd...</td>\n",
       "      <td>667499018</td>\n",
       "      <td>0.025407</td>\n",
       "    </tr>\n",
       "    <tr>\n",
       "      <th>999998</th>\n",
       "      <td>2019-07-31</td>\n",
       "      <td>071e56e1fbbdda240e4fa1567e65a893f1da91cb44b78d...</td>\n",
       "      <td>697050017</td>\n",
       "      <td>0.010153</td>\n",
       "    </tr>\n",
       "    <tr>\n",
       "      <th>999999</th>\n",
       "      <td>2019-05-20</td>\n",
       "      <td>6bc2d74cdfa535a65d80f7ddc5cf3ddad0a7857848a6ab...</td>\n",
       "      <td>564045007</td>\n",
       "      <td>0.013542</td>\n",
       "    </tr>\n",
       "  </tbody>\n",
       "</table>\n",
       "<p>1000000 rows × 4 columns</p>\n",
       "</div>"
      ],
      "text/plain": [
       "             t_dat                                        customer_id  \\\n",
       "0       2020-01-03  af4658f8651730d6aa32c8b66f677a73a62ff2074b8443...   \n",
       "1       2019-05-03  b1dadb55234d5df0135bc96f418d7184121937aefe2988...   \n",
       "2       2018-11-01  a49a517a5e703a4b7d8c159a12a832f7dc917023cc37d5...   \n",
       "3       2020-06-04  7a8ae54f930bb455f0cc3c3edf2dda713811ddd62ce488...   \n",
       "4       2019-12-21  b7f4eaf989e5702ca3752adf68f3c51a7e327f62495529...   \n",
       "...            ...                                                ...   \n",
       "999995  2020-07-12  70a83da26e416169a9d35c39395764bf77fb756f09d29e...   \n",
       "999996  2019-05-30  2bc1317b6db05a3596dc281f88eff94a472f87b93ff246...   \n",
       "999997  2018-10-21  bf698fdd9233f9bb6f1a835c2dfc169756219e5f4cb5fd...   \n",
       "999998  2019-07-31  071e56e1fbbdda240e4fa1567e65a893f1da91cb44b78d...   \n",
       "999999  2019-05-20  6bc2d74cdfa535a65d80f7ddc5cf3ddad0a7857848a6ab...   \n",
       "\n",
       "        article_id     price  \n",
       "0        803757004  0.016932  \n",
       "1        662344015  0.032661  \n",
       "2        640613002  0.011847  \n",
       "3        816423002  0.025407  \n",
       "4        777070005  0.030492  \n",
       "...            ...       ...  \n",
       "999995   877014005  0.033153  \n",
       "999996   681385001  0.025407  \n",
       "999997   667499018  0.025407  \n",
       "999998   697050017  0.010153  \n",
       "999999   564045007  0.013542  \n",
       "\n",
       "[1000000 rows x 4 columns]"
      ]
     },
     "execution_count": 57,
     "metadata": {},
     "output_type": "execute_result"
    }
   ],
   "source": [
    "dt"
   ]
  },
  {
   "cell_type": "markdown",
   "id": "9b48ac9d",
   "metadata": {},
   "source": [
    "> `t_dat` : Дата покупки  \n",
    "> `customer_id` : id клиента <br>\n",
    "> `article_id` : Aртикул приобретенного товара   \n",
    "> `price`: Цена товара  \n",
    " \n"
   ]
  },
  {
   "cell_type": "markdown",
   "id": "cbf52b29",
   "metadata": {},
   "source": [
    "Добавим столбец со значением даты покупки в формате Unix: "
   ]
  },
  {
   "cell_type": "code",
   "execution_count": 58,
   "id": "80dcce35",
   "metadata": {
    "scrolled": true
   },
   "outputs": [
    {
     "data": {
      "text/html": [
       "<div>\n",
       "<style scoped>\n",
       "    .dataframe tbody tr th:only-of-type {\n",
       "        vertical-align: middle;\n",
       "    }\n",
       "\n",
       "    .dataframe tbody tr th {\n",
       "        vertical-align: top;\n",
       "    }\n",
       "\n",
       "    .dataframe thead th {\n",
       "        text-align: right;\n",
       "    }\n",
       "</style>\n",
       "<table border=\"1\" class=\"dataframe\">\n",
       "  <thead>\n",
       "    <tr style=\"text-align: right;\">\n",
       "      <th></th>\n",
       "      <th>t_dat</th>\n",
       "      <th>customer_id</th>\n",
       "      <th>article_id</th>\n",
       "      <th>price</th>\n",
       "      <th>datetime</th>\n",
       "    </tr>\n",
       "  </thead>\n",
       "  <tbody>\n",
       "    <tr>\n",
       "      <th>0</th>\n",
       "      <td>2020-01-03</td>\n",
       "      <td>af4658f8651730d6aa32c8b66f677a73a62ff2074b8443...</td>\n",
       "      <td>803757004</td>\n",
       "      <td>0.016932</td>\n",
       "      <td>1.577992e+09</td>\n",
       "    </tr>\n",
       "    <tr>\n",
       "      <th>1</th>\n",
       "      <td>2019-05-03</td>\n",
       "      <td>b1dadb55234d5df0135bc96f418d7184121937aefe2988...</td>\n",
       "      <td>662344015</td>\n",
       "      <td>0.032661</td>\n",
       "      <td>1.556824e+09</td>\n",
       "    </tr>\n",
       "    <tr>\n",
       "      <th>2</th>\n",
       "      <td>2018-11-01</td>\n",
       "      <td>a49a517a5e703a4b7d8c159a12a832f7dc917023cc37d5...</td>\n",
       "      <td>640613002</td>\n",
       "      <td>0.011847</td>\n",
       "      <td>1.541012e+09</td>\n",
       "    </tr>\n",
       "    <tr>\n",
       "      <th>3</th>\n",
       "      <td>2020-06-04</td>\n",
       "      <td>7a8ae54f930bb455f0cc3c3edf2dda713811ddd62ce488...</td>\n",
       "      <td>816423002</td>\n",
       "      <td>0.025407</td>\n",
       "      <td>1.591211e+09</td>\n",
       "    </tr>\n",
       "    <tr>\n",
       "      <th>4</th>\n",
       "      <td>2019-12-21</td>\n",
       "      <td>b7f4eaf989e5702ca3752adf68f3c51a7e327f62495529...</td>\n",
       "      <td>777070005</td>\n",
       "      <td>0.030492</td>\n",
       "      <td>1.576868e+09</td>\n",
       "    </tr>\n",
       "    <tr>\n",
       "      <th>...</th>\n",
       "      <td>...</td>\n",
       "      <td>...</td>\n",
       "      <td>...</td>\n",
       "      <td>...</td>\n",
       "      <td>...</td>\n",
       "    </tr>\n",
       "    <tr>\n",
       "      <th>999995</th>\n",
       "      <td>2020-07-12</td>\n",
       "      <td>70a83da26e416169a9d35c39395764bf77fb756f09d29e...</td>\n",
       "      <td>877014005</td>\n",
       "      <td>0.033153</td>\n",
       "      <td>1.594494e+09</td>\n",
       "    </tr>\n",
       "    <tr>\n",
       "      <th>999996</th>\n",
       "      <td>2019-05-30</td>\n",
       "      <td>2bc1317b6db05a3596dc281f88eff94a472f87b93ff246...</td>\n",
       "      <td>681385001</td>\n",
       "      <td>0.025407</td>\n",
       "      <td>1.559156e+09</td>\n",
       "    </tr>\n",
       "    <tr>\n",
       "      <th>999997</th>\n",
       "      <td>2018-10-21</td>\n",
       "      <td>bf698fdd9233f9bb6f1a835c2dfc169756219e5f4cb5fd...</td>\n",
       "      <td>667499018</td>\n",
       "      <td>0.025407</td>\n",
       "      <td>1.540062e+09</td>\n",
       "    </tr>\n",
       "    <tr>\n",
       "      <th>999998</th>\n",
       "      <td>2019-07-31</td>\n",
       "      <td>071e56e1fbbdda240e4fa1567e65a893f1da91cb44b78d...</td>\n",
       "      <td>697050017</td>\n",
       "      <td>0.010153</td>\n",
       "      <td>1.564513e+09</td>\n",
       "    </tr>\n",
       "    <tr>\n",
       "      <th>999999</th>\n",
       "      <td>2019-05-20</td>\n",
       "      <td>6bc2d74cdfa535a65d80f7ddc5cf3ddad0a7857848a6ab...</td>\n",
       "      <td>564045007</td>\n",
       "      <td>0.013542</td>\n",
       "      <td>1.558292e+09</td>\n",
       "    </tr>\n",
       "  </tbody>\n",
       "</table>\n",
       "<p>1000000 rows × 5 columns</p>\n",
       "</div>"
      ],
      "text/plain": [
       "             t_dat                                        customer_id  \\\n",
       "0       2020-01-03  af4658f8651730d6aa32c8b66f677a73a62ff2074b8443...   \n",
       "1       2019-05-03  b1dadb55234d5df0135bc96f418d7184121937aefe2988...   \n",
       "2       2018-11-01  a49a517a5e703a4b7d8c159a12a832f7dc917023cc37d5...   \n",
       "3       2020-06-04  7a8ae54f930bb455f0cc3c3edf2dda713811ddd62ce488...   \n",
       "4       2019-12-21  b7f4eaf989e5702ca3752adf68f3c51a7e327f62495529...   \n",
       "...            ...                                                ...   \n",
       "999995  2020-07-12  70a83da26e416169a9d35c39395764bf77fb756f09d29e...   \n",
       "999996  2019-05-30  2bc1317b6db05a3596dc281f88eff94a472f87b93ff246...   \n",
       "999997  2018-10-21  bf698fdd9233f9bb6f1a835c2dfc169756219e5f4cb5fd...   \n",
       "999998  2019-07-31  071e56e1fbbdda240e4fa1567e65a893f1da91cb44b78d...   \n",
       "999999  2019-05-20  6bc2d74cdfa535a65d80f7ddc5cf3ddad0a7857848a6ab...   \n",
       "\n",
       "        article_id     price      datetime  \n",
       "0        803757004  0.016932  1.577992e+09  \n",
       "1        662344015  0.032661  1.556824e+09  \n",
       "2        640613002  0.011847  1.541012e+09  \n",
       "3        816423002  0.025407  1.591211e+09  \n",
       "4        777070005  0.030492  1.576868e+09  \n",
       "...            ...       ...           ...  \n",
       "999995   877014005  0.033153  1.594494e+09  \n",
       "999996   681385001  0.025407  1.559156e+09  \n",
       "999997   667499018  0.025407  1.540062e+09  \n",
       "999998   697050017  0.010153  1.564513e+09  \n",
       "999999   564045007  0.013542  1.558292e+09  \n",
       "\n",
       "[1000000 rows x 5 columns]"
      ]
     },
     "execution_count": 58,
     "metadata": {},
     "output_type": "execute_result"
    }
   ],
   "source": [
    "date_= []\n",
    "for i in dt['t_dat']:\n",
    "    date_2= time.mktime(datetime.datetime.strptime(i,\"%Y-%m-%d\").timetuple())\n",
    "    date_.append(date_2)\n",
    "dt['datetime'] = date_\n",
    "dt"
   ]
  },
  {
   "cell_type": "code",
   "execution_count": 81,
   "id": "9ff05b08",
   "metadata": {},
   "outputs": [],
   "source": [
    "dt = dt.sort_values(['t_dat'], ascending = True)"
   ]
  },
  {
   "cell_type": "markdown",
   "id": "9538e9d8",
   "metadata": {},
   "source": [
    "### Проверка данных"
   ]
  },
  {
   "cell_type": "markdown",
   "id": "32fadcf4",
   "metadata": {},
   "source": [
    "# ______"
   ]
  },
  {
   "cell_type": "markdown",
   "id": "ee9b93a3",
   "metadata": {},
   "source": [
    "### Основная часть"
   ]
  },
  {
   "cell_type": "code",
   "execution_count": 82,
   "id": "f0ea0f4d",
   "metadata": {
    "scrolled": true
   },
   "outputs": [
    {
     "data": {
      "text/html": [
       "<div>\n",
       "<style scoped>\n",
       "    .dataframe tbody tr th:only-of-type {\n",
       "        vertical-align: middle;\n",
       "    }\n",
       "\n",
       "    .dataframe tbody tr th {\n",
       "        vertical-align: top;\n",
       "    }\n",
       "\n",
       "    .dataframe thead th {\n",
       "        text-align: right;\n",
       "    }\n",
       "</style>\n",
       "<table border=\"1\" class=\"dataframe\">\n",
       "  <thead>\n",
       "    <tr style=\"text-align: right;\">\n",
       "      <th></th>\n",
       "      <th>t_dat</th>\n",
       "      <th>customer_id</th>\n",
       "      <th>article_id</th>\n",
       "      <th>price</th>\n",
       "      <th>datetime</th>\n",
       "    </tr>\n",
       "  </thead>\n",
       "  <tbody>\n",
       "    <tr>\n",
       "      <th>68834</th>\n",
       "      <td>2018-09-20</td>\n",
       "      <td>2bf68bac40e37b09ceee67f1017d31aa8858a3ad6368c6...</td>\n",
       "      <td>519583028</td>\n",
       "      <td>0.033881</td>\n",
       "      <td>1.537384e+09</td>\n",
       "    </tr>\n",
       "    <tr>\n",
       "      <th>380408</th>\n",
       "      <td>2018-09-20</td>\n",
       "      <td>8cf4ea3a69bf5ec5bb0dff76ac230ad1d01254fbe7850e...</td>\n",
       "      <td>675281001</td>\n",
       "      <td>0.024136</td>\n",
       "      <td>1.537384e+09</td>\n",
       "    </tr>\n",
       "    <tr>\n",
       "      <th>341271</th>\n",
       "      <td>2018-09-20</td>\n",
       "      <td>4e527b59b8ae9118f89a64767aa968698e75d8bb7704b5...</td>\n",
       "      <td>494691005</td>\n",
       "      <td>0.016932</td>\n",
       "      <td>1.537384e+09</td>\n",
       "    </tr>\n",
       "    <tr>\n",
       "      <th>296350</th>\n",
       "      <td>2018-09-20</td>\n",
       "      <td>f92711c461d1806775a4ba79056cae53bde89ef2a5b3e8...</td>\n",
       "      <td>619350002</td>\n",
       "      <td>0.027102</td>\n",
       "      <td>1.537384e+09</td>\n",
       "    </tr>\n",
       "    <tr>\n",
       "      <th>498679</th>\n",
       "      <td>2018-09-20</td>\n",
       "      <td>936be5fe2b5c6367d1fcd0505980bf4c3be1d50ab91b18...</td>\n",
       "      <td>529012025</td>\n",
       "      <td>0.009136</td>\n",
       "      <td>1.537384e+09</td>\n",
       "    </tr>\n",
       "    <tr>\n",
       "      <th>...</th>\n",
       "      <td>...</td>\n",
       "      <td>...</td>\n",
       "      <td>...</td>\n",
       "      <td>...</td>\n",
       "      <td>...</td>\n",
       "    </tr>\n",
       "    <tr>\n",
       "      <th>727151</th>\n",
       "      <td>2020-09-22</td>\n",
       "      <td>6ad6cb5bd048b1c7cf4dbc382c20f16197bbd6673f8b3b...</td>\n",
       "      <td>842952002</td>\n",
       "      <td>0.033881</td>\n",
       "      <td>1.600715e+09</td>\n",
       "    </tr>\n",
       "    <tr>\n",
       "      <th>238717</th>\n",
       "      <td>2020-09-22</td>\n",
       "      <td>5bc26b3f8435a8f7ef7813a10acd1d7430b54e7ea0b979...</td>\n",
       "      <td>654590001</td>\n",
       "      <td>0.030492</td>\n",
       "      <td>1.600715e+09</td>\n",
       "    </tr>\n",
       "    <tr>\n",
       "      <th>922946</th>\n",
       "      <td>2020-09-22</td>\n",
       "      <td>c6d2b118977830a6bb66c25c5b52c27d4896b33c4f212a...</td>\n",
       "      <td>715828037</td>\n",
       "      <td>0.033881</td>\n",
       "      <td>1.600715e+09</td>\n",
       "    </tr>\n",
       "    <tr>\n",
       "      <th>263895</th>\n",
       "      <td>2020-09-22</td>\n",
       "      <td>9da1ce589e054bd1b95790860364c1d466d8a0ba335118...</td>\n",
       "      <td>909093001</td>\n",
       "      <td>0.033881</td>\n",
       "      <td>1.600715e+09</td>\n",
       "    </tr>\n",
       "    <tr>\n",
       "      <th>983736</th>\n",
       "      <td>2020-09-22</td>\n",
       "      <td>92b4011a5648c73ef6f7a2ec48d806cdc9afdebe361a82...</td>\n",
       "      <td>884465002</td>\n",
       "      <td>0.118627</td>\n",
       "      <td>1.600715e+09</td>\n",
       "    </tr>\n",
       "  </tbody>\n",
       "</table>\n",
       "<p>1000000 rows × 5 columns</p>\n",
       "</div>"
      ],
      "text/plain": [
       "             t_dat                                        customer_id  \\\n",
       "68834   2018-09-20  2bf68bac40e37b09ceee67f1017d31aa8858a3ad6368c6...   \n",
       "380408  2018-09-20  8cf4ea3a69bf5ec5bb0dff76ac230ad1d01254fbe7850e...   \n",
       "341271  2018-09-20  4e527b59b8ae9118f89a64767aa968698e75d8bb7704b5...   \n",
       "296350  2018-09-20  f92711c461d1806775a4ba79056cae53bde89ef2a5b3e8...   \n",
       "498679  2018-09-20  936be5fe2b5c6367d1fcd0505980bf4c3be1d50ab91b18...   \n",
       "...            ...                                                ...   \n",
       "727151  2020-09-22  6ad6cb5bd048b1c7cf4dbc382c20f16197bbd6673f8b3b...   \n",
       "238717  2020-09-22  5bc26b3f8435a8f7ef7813a10acd1d7430b54e7ea0b979...   \n",
       "922946  2020-09-22  c6d2b118977830a6bb66c25c5b52c27d4896b33c4f212a...   \n",
       "263895  2020-09-22  9da1ce589e054bd1b95790860364c1d466d8a0ba335118...   \n",
       "983736  2020-09-22  92b4011a5648c73ef6f7a2ec48d806cdc9afdebe361a82...   \n",
       "\n",
       "        article_id     price      datetime  \n",
       "68834    519583028  0.033881  1.537384e+09  \n",
       "380408   675281001  0.024136  1.537384e+09  \n",
       "341271   494691005  0.016932  1.537384e+09  \n",
       "296350   619350002  0.027102  1.537384e+09  \n",
       "498679   529012025  0.009136  1.537384e+09  \n",
       "...            ...       ...           ...  \n",
       "727151   842952002  0.033881  1.600715e+09  \n",
       "238717   654590001  0.030492  1.600715e+09  \n",
       "922946   715828037  0.033881  1.600715e+09  \n",
       "263895   909093001  0.033881  1.600715e+09  \n",
       "983736   884465002  0.118627  1.600715e+09  \n",
       "\n",
       "[1000000 rows x 5 columns]"
      ]
     },
     "execution_count": 82,
     "metadata": {},
     "output_type": "execute_result"
    }
   ],
   "source": [
    "dt"
   ]
  },
  {
   "cell_type": "code",
   "execution_count": 83,
   "id": "532cf75a",
   "metadata": {
    "scrolled": true
   },
   "outputs": [],
   "source": [
    "diff_date = dt.groupby('customer_id')['datetime'].apply(list).apply(np.diff)"
   ]
  },
  {
   "cell_type": "code",
   "execution_count": 84,
   "id": "99a25eb6",
   "metadata": {
    "scrolled": true
   },
   "outputs": [
    {
     "data": {
      "text/plain": [
       "customer_id\n",
       "0000423b00ade91418cceaf3b26c6af3dd342b51fd051eec9c12fb36984420fa                                         [24796800.0]\n",
       "000058a12d5b43e67d225668fa1f8d618c13dc232df0cad8ffe7ad4a1091e318                                                   []\n",
       "00006413d8573cd20ed7128e53b7b13819fe5cfc2d801fe7fc0f26dd8d65a85a                                         [18662400.0]\n",
       "00007d2de826758b65a93dd24ce629ed66842531df6699338c5570910a014cc2    [6307200.0, 86400.0, 14428800.0, 13046400.0, 1...\n",
       "00009d946eec3ea54add5ba56d5210ea898def4b46c68570cf0096d962cacc75             [0.0, 35769600.0, 7603200.0, 10195200.0]\n",
       "                                                                                          ...                        \n",
       "ffff64f7850d4268016db8db3d48bf5433db2a926ba71bcf0b17dc4e15f1f223                                                   []\n",
       "ffffbbf78b6eaac697a8a5dfbfd2bfa8113ee5b403e4747568cac33e8c541831                                    [0.0, 10627200.0]\n",
       "ffffcd5046a6143d29a04fb8c424ce494a76e5cdf4fab53481233731b5c4f8b7                                                   []\n",
       "ffffcf35913a0bee60e8741cb2b4e78b8a98ee5ff2e6a1778d0116cffd259264                                                   []\n",
       "ffffd7744cebcf3aca44ae7049d2a94b87074c3d4ffe38b2236865d949d4df6a                                                   []\n",
       "Name: datetime, Length: 486658, dtype: object"
      ]
     },
     "execution_count": 84,
     "metadata": {},
     "output_type": "execute_result"
    }
   ],
   "source": [
    "diff_date"
   ]
  },
  {
   "cell_type": "markdown",
   "id": "cae522c6",
   "metadata": {},
   "source": [
    "Превратим array в Pandas серию:"
   ]
  },
  {
   "cell_type": "code",
   "execution_count": 85,
   "id": "727615c6",
   "metadata": {},
   "outputs": [],
   "source": [
    "diff_date = pd.Series(np.concatenate(diff_date, axis =0))"
   ]
  },
  {
   "cell_type": "code",
   "execution_count": 86,
   "id": "c7842d98",
   "metadata": {},
   "outputs": [
    {
     "data": {
      "text/plain": [
       "0         24796800.0\n",
       "1         18662400.0\n",
       "2          6307200.0\n",
       "3            86400.0\n",
       "4         14428800.0\n",
       "             ...    \n",
       "513337     1209600.0\n",
       "513338     4233600.0\n",
       "513339    26179200.0\n",
       "513340           0.0\n",
       "513341    10627200.0\n",
       "Length: 513342, dtype: float64"
      ]
     },
     "execution_count": 86,
     "metadata": {},
     "output_type": "execute_result"
    }
   ],
   "source": [
    "diff_date"
   ]
  },
  {
   "cell_type": "code",
   "execution_count": 87,
   "id": "caece5a7",
   "metadata": {},
   "outputs": [
    {
     "data": {
      "text/plain": [
       "0         287.0\n",
       "1         216.0\n",
       "2          73.0\n",
       "3           1.0\n",
       "4         167.0\n",
       "          ...  \n",
       "513337     14.0\n",
       "513338     49.0\n",
       "513339    303.0\n",
       "513340      0.0\n",
       "513341    123.0\n",
       "Length: 513342, dtype: float64"
      ]
     },
     "execution_count": 87,
     "metadata": {},
     "output_type": "execute_result"
    }
   ],
   "source": [
    "diff_date = diff_date / 86400 # перевод в сутки\n",
    "diff_date"
   ]
  },
  {
   "cell_type": "code",
   "execution_count": 98,
   "id": "936a4bcc",
   "metadata": {
    "scrolled": true
   },
   "outputs": [],
   "source": [
    "drop_ind = (np.abs(stats.zscore(diff_date)) > 2)\n",
    "\n"
   ]
  },
  {
   "cell_type": "code",
   "execution_count": 99,
   "id": "b94f887c",
   "metadata": {},
   "outputs": [
    {
     "data": {
      "text/plain": [
       "0         287.0\n",
       "1         216.0\n",
       "2          73.0\n",
       "3           1.0\n",
       "4         167.0\n",
       "          ...  \n",
       "513337     14.0\n",
       "513338     49.0\n",
       "513339    303.0\n",
       "513340      0.0\n",
       "513341    123.0\n",
       "Length: 473561, dtype: float64"
      ]
     },
     "execution_count": 99,
     "metadata": {},
     "output_type": "execute_result"
    }
   ],
   "source": [
    "diff_date = diff_date.loc[~drop_ind]\n",
    "diff_date "
   ]
  },
  {
   "cell_type": "code",
   "execution_count": 113,
   "id": "c847ef53",
   "metadata": {
    "scrolled": true
   },
   "outputs": [
    {
     "data": {
      "text/plain": [
       "<AxesSubplot:>"
      ]
     },
     "execution_count": 113,
     "metadata": {},
     "output_type": "execute_result"
    },
    {
     "data": {
      "image/png": "[encoded data removed]",
      "text/plain": [
       "<Figure size 640x480 with 1 Axes>"
      ]
     },
     "metadata": {},
     "output_type": "display_data"
    }
   ],
   "source": [
    "diff_date.hist()"
   ]
  },
  {
   "cell_type": "markdown",
   "id": "b3c63f83",
   "metadata": {},
   "source": [
    "Создадим датафрейм со значениями квантилей и соответствующими значениями дней перерыва в покупках:"
   ]
  },
  {
   "cell_type": "code",
   "execution_count": 102,
   "id": "135e7228",
   "metadata": {},
   "outputs": [
    {
     "data": {
      "text/html": [
       "<div>\n",
       "<style scoped>\n",
       "    .dataframe tbody tr th:only-of-type {\n",
       "        vertical-align: middle;\n",
       "    }\n",
       "\n",
       "    .dataframe tbody tr th {\n",
       "        vertical-align: top;\n",
       "    }\n",
       "\n",
       "    .dataframe thead th {\n",
       "        text-align: right;\n",
       "    }\n",
       "</style>\n",
       "<table border=\"1\" class=\"dataframe\">\n",
       "  <thead>\n",
       "    <tr style=\"text-align: right;\">\n",
       "      <th></th>\n",
       "      <th>persons</th>\n",
       "      <th>day</th>\n",
       "    </tr>\n",
       "  </thead>\n",
       "  <tbody>\n",
       "    <tr>\n",
       "      <th>0</th>\n",
       "      <td>10%</td>\n",
       "      <td>0.0</td>\n",
       "    </tr>\n",
       "    <tr>\n",
       "      <th>1</th>\n",
       "      <td>20%</td>\n",
       "      <td>2.0</td>\n",
       "    </tr>\n",
       "    <tr>\n",
       "      <th>2</th>\n",
       "      <td>30%</td>\n",
       "      <td>18.0</td>\n",
       "    </tr>\n",
       "    <tr>\n",
       "      <th>3</th>\n",
       "      <td>40%</td>\n",
       "      <td>37.0</td>\n",
       "    </tr>\n",
       "    <tr>\n",
       "      <th>4</th>\n",
       "      <td>50%</td>\n",
       "      <td>61.0</td>\n",
       "    </tr>\n",
       "    <tr>\n",
       "      <th>5</th>\n",
       "      <td>60%</td>\n",
       "      <td>89.0</td>\n",
       "    </tr>\n",
       "    <tr>\n",
       "      <th>6</th>\n",
       "      <td>70%</td>\n",
       "      <td>125.0</td>\n",
       "    </tr>\n",
       "    <tr>\n",
       "      <th>7</th>\n",
       "      <td>80%</td>\n",
       "      <td>172.0</td>\n",
       "    </tr>\n",
       "    <tr>\n",
       "      <th>8</th>\n",
       "      <td>90%</td>\n",
       "      <td>238.0</td>\n",
       "    </tr>\n",
       "    <tr>\n",
       "      <th>9</th>\n",
       "      <td>100%</td>\n",
       "      <td>351.0</td>\n",
       "    </tr>\n",
       "  </tbody>\n",
       "</table>\n",
       "</div>"
      ],
      "text/plain": [
       "  persons    day\n",
       "0     10%    0.0\n",
       "1     20%    2.0\n",
       "2     30%   18.0\n",
       "3     40%   37.0\n",
       "4     50%   61.0\n",
       "5     60%   89.0\n",
       "6     70%  125.0\n",
       "7     80%  172.0\n",
       "8     90%  238.0\n",
       "9    100%  351.0"
      ]
     },
     "execution_count": 102,
     "metadata": {},
     "output_type": "execute_result"
    }
   ],
   "source": [
    "buyers = pd.DataFrame({\n",
    "'persons': ['10%','20%','30%','40%','50%','60%','70%','80%','90%','100%'],\n",
    "'day':[diff_date.quantile(0.1),\n",
    "         diff_date.quantile(0.2),\n",
    "         diff_date.quantile(0.3),\n",
    "         diff_date.quantile(0.4),\n",
    "         diff_date.quantile(0.5),\n",
    "         diff_date.quantile(0.6),\n",
    "         diff_date.quantile(0.7),\n",
    "         diff_date.quantile(0.8),\n",
    "         diff_date.quantile(0.9),\n",
    "         diff_date.quantile(1)]})\n",
    "buyers \n",
    "\n"
   ]
  },
  {
   "cell_type": "code",
   "execution_count": 103,
   "id": "aad27447",
   "metadata": {
    "scrolled": true
   },
   "outputs": [
    {
     "data": {
      "text/plain": [
       "array([[<AxesSubplot:title={'center':'day'}>]], dtype=object)"
      ]
     },
     "execution_count": 103,
     "metadata": {},
     "output_type": "execute_result"
    },
    {
     "data": {
      "image/png": "[encoded data removed]",
      "text/plain": [
       "<Figure size 640x480 with 1 Axes>"
      ]
     },
     "metadata": {},
     "output_type": "display_data"
    }
   ],
   "source": [
    "buyers.hist()"
   ]
  },
  {
   "cell_type": "markdown",
   "id": "abc56829",
   "metadata": {},
   "source": [
    "### Вывод: \n",
    "\n",
    "Можно заметить, что после 172 дней, время перерыва между последней покупкой и новой покупкой начинает значительно увеличиваться. \n",
    "\n",
    "80% покупателей преобретает товар до этого времени. Их в расслыку включать не стоит, так как они и без того являются лояльными. \n",
    "\n",
    "А вот оставшихся 20% будем стимулировать преобрести товар с помощью Push-уведомлений, напоминая им об акциях и предложениях на 173 день без покупки. "
   ]
  },
  {
   "cell_type": "code",
   "execution_count": null,
   "id": "3e17d349",
   "metadata": {},
   "outputs": [],
   "source": []
  }
 ],
 "metadata": {
  "kernelspec": {
   "display_name": "Python 3.9.13 ('base')",
   "language": "python",
   "name": "python3"
  },
  "language_info": {
   "codemirror_mode": {
    "name": "ipython",
    "version": 3
   },
   "file_extension": ".py",
   "mimetype": "text/x-python",
   "name": "python",
   "nbconvert_exporter": "python",
   "pygments_lexer": "ipython3",
   "version": "3.9.13"
  },
  "vscode": {
   "interpreter": {
    "hash": "ad2bdc8ecc057115af97d19610ffacc2b4e99fae6737bb82f5d7fb13d2f2c186"
   }
  }
 },
 "nbformat": 4,
 "nbformat_minor": 5
}
